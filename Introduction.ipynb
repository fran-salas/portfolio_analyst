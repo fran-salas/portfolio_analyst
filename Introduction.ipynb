{
 "cells": [
  {
   "cell_type": "markdown",
   "id": "de6ec251",
   "metadata": {},
   "source": [
    "### Module 1: Introduction to Portfolio Analysis"
   ]
  },
  {
   "cell_type": "code",
   "execution_count": 3,
   "id": "1af3b1f7",
   "metadata": {},
   "outputs": [
    {
     "name": "stdout",
     "output_type": "stream",
     "text": [
      "Python environment: c:\\Users\\franc\\anaconda3\\envs\\portfolio\\python.exe\n"
     ]
    }
   ],
   "source": [
    "import sys\n",
    "print(f\"Python environment: {sys.executable}\")"
   ]
  },
  {
   "cell_type": "markdown",
   "id": "d5879b83",
   "metadata": {},
   "source": [
    "#### Lab1: Returns"
   ]
  },
  {
   "cell_type": "markdown",
   "id": "9d24136b",
   "metadata": {},
   "source": [
    "How to compute the return from prices"
   ]
  },
  {
   "cell_type": "code",
   "execution_count": 4,
   "id": "4ddafded",
   "metadata": {},
   "outputs": [],
   "source": [
    "prices_a = [8.7, 8.91, 8.71]"
   ]
  },
  {
   "cell_type": "code",
   "execution_count": 5,
   "id": "ea511e97",
   "metadata": {},
   "outputs": [
    {
     "data": {
      "text/plain": [
       "0.024137931034482918"
      ]
     },
     "execution_count": 5,
     "metadata": {},
     "output_type": "execute_result"
    }
   ],
   "source": [
    "8.91/8.7 - 1"
   ]
  },
  {
   "cell_type": "code",
   "execution_count": 6,
   "id": "ceac0f6f",
   "metadata": {},
   "outputs": [
    {
     "data": {
      "text/plain": [
       "[8.91, 8.71]"
      ]
     },
     "execution_count": 6,
     "metadata": {},
     "output_type": "execute_result"
    }
   ],
   "source": [
    "prices_a[1:] #Everything except the first element with slicing. Index starts at 0"
   ]
  },
  {
   "cell_type": "code",
   "execution_count": 7,
   "id": "5086a276",
   "metadata": {},
   "outputs": [
    {
     "data": {
      "text/plain": [
       "[8.7, 8.91]"
      ]
     },
     "execution_count": 7,
     "metadata": {},
     "output_type": "execute_result"
    }
   ],
   "source": [
    "prices_a[:-1] #Everything except the last element with slicing."
   ]
  },
  {
   "cell_type": "code",
   "execution_count": 8,
   "id": "5b5da19d",
   "metadata": {},
   "outputs": [],
   "source": [
    "#Lists in python are not vectors, like MATLAB or R. To do vectorized operations, we can use numpy arrays.\n",
    "import numpy as np"
   ]
  },
  {
   "cell_type": "code",
   "execution_count": 9,
   "id": "dbcee3d4",
   "metadata": {},
   "outputs": [
    {
     "data": {
      "text/plain": [
       "array([8.7 , 8.91, 8.71])"
      ]
     },
     "execution_count": 9,
     "metadata": {},
     "output_type": "execute_result"
    }
   ],
   "source": [
    "prices_a = np.array([8.7, 8.91, 8.71])\n",
    "prices_a "
   ]
  },
  {
   "cell_type": "code",
   "execution_count": 10,
   "id": "9288a571",
   "metadata": {},
   "outputs": [
    {
     "data": {
      "text/plain": [
       "array([ 0.02413793, -0.02244669])"
      ]
     },
     "execution_count": 10,
     "metadata": {},
     "output_type": "execute_result"
    }
   ],
   "source": [
    "prices_a[1:]/prices_a[:-1] - 1"
   ]
  },
  {
   "cell_type": "code",
   "execution_count": 11,
   "id": "0a6fa5e9",
   "metadata": {},
   "outputs": [],
   "source": [
    "import pandas as pd"
   ]
  },
  {
   "cell_type": "code",
   "execution_count": 12,
   "id": "4fb25df2",
   "metadata": {},
   "outputs": [],
   "source": [
    "prices = pd.DataFrame({\"BLUE\":[8.7, 8.91, 8.71, 8.43, 8.73],\n",
    "                       \"ORANGE\":[10.66, 11.08, 10.71, 11.59, 12.11]\n",
    "                       })"
   ]
  },
  {
   "cell_type": "code",
   "execution_count": 13,
   "id": "f690072e",
   "metadata": {},
   "outputs": [
    {
     "data": {
      "application/vnd.microsoft.datawrangler.viewer.v0+json": {
       "columns": [
        {
         "name": "index",
         "rawType": "int64",
         "type": "integer"
        },
        {
         "name": "BLUE",
         "rawType": "float64",
         "type": "float"
        },
        {
         "name": "ORANGE",
         "rawType": "float64",
         "type": "float"
        }
       ],
       "ref": "8b902db4-26be-4bb9-970b-5e0fd7ae4ee1",
       "rows": [
        [
         "0",
         "8.7",
         "10.66"
        ],
        [
         "1",
         "8.91",
         "11.08"
        ],
        [
         "2",
         "8.71",
         "10.71"
        ],
        [
         "3",
         "8.43",
         "11.59"
        ],
        [
         "4",
         "8.73",
         "12.11"
        ]
       ],
       "shape": {
        "columns": 2,
        "rows": 5
       }
      },
      "text/html": [
       "<div>\n",
       "<style scoped>\n",
       "    .dataframe tbody tr th:only-of-type {\n",
       "        vertical-align: middle;\n",
       "    }\n",
       "\n",
       "    .dataframe tbody tr th {\n",
       "        vertical-align: top;\n",
       "    }\n",
       "\n",
       "    .dataframe thead th {\n",
       "        text-align: right;\n",
       "    }\n",
       "</style>\n",
       "<table border=\"1\" class=\"dataframe\">\n",
       "  <thead>\n",
       "    <tr style=\"text-align: right;\">\n",
       "      <th></th>\n",
       "      <th>BLUE</th>\n",
       "      <th>ORANGE</th>\n",
       "    </tr>\n",
       "  </thead>\n",
       "  <tbody>\n",
       "    <tr>\n",
       "      <th>0</th>\n",
       "      <td>8.70</td>\n",
       "      <td>10.66</td>\n",
       "    </tr>\n",
       "    <tr>\n",
       "      <th>1</th>\n",
       "      <td>8.91</td>\n",
       "      <td>11.08</td>\n",
       "    </tr>\n",
       "    <tr>\n",
       "      <th>2</th>\n",
       "      <td>8.71</td>\n",
       "      <td>10.71</td>\n",
       "    </tr>\n",
       "    <tr>\n",
       "      <th>3</th>\n",
       "      <td>8.43</td>\n",
       "      <td>11.59</td>\n",
       "    </tr>\n",
       "    <tr>\n",
       "      <th>4</th>\n",
       "      <td>8.73</td>\n",
       "      <td>12.11</td>\n",
       "    </tr>\n",
       "  </tbody>\n",
       "</table>\n",
       "</div>"
      ],
      "text/plain": [
       "   BLUE  ORANGE\n",
       "0  8.70   10.66\n",
       "1  8.91   11.08\n",
       "2  8.71   10.71\n",
       "3  8.43   11.59\n",
       "4  8.73   12.11"
      ]
     },
     "execution_count": 13,
     "metadata": {},
     "output_type": "execute_result"
    }
   ],
   "source": [
    "prices"
   ]
  },
  {
   "cell_type": "code",
   "execution_count": 14,
   "id": "1614614e",
   "metadata": {},
   "outputs": [
    {
     "data": {
      "application/vnd.microsoft.datawrangler.viewer.v0+json": {
       "columns": [
        {
         "name": "index",
         "rawType": "int64",
         "type": "integer"
        },
        {
         "name": "BLUE",
         "rawType": "float64",
         "type": "float"
        },
        {
         "name": "ORANGE",
         "rawType": "float64",
         "type": "float"
        }
       ],
       "ref": "03ef5a27-a9c1-42d3-8f12-d4adf04d8ffe",
       "rows": [
        [
         "1",
         "8.91",
         "11.08"
        ],
        [
         "2",
         "8.71",
         "10.71"
        ],
        [
         "3",
         "8.43",
         "11.59"
        ],
        [
         "4",
         "8.73",
         "12.11"
        ]
       ],
       "shape": {
        "columns": 2,
        "rows": 4
       }
      },
      "text/html": [
       "<div>\n",
       "<style scoped>\n",
       "    .dataframe tbody tr th:only-of-type {\n",
       "        vertical-align: middle;\n",
       "    }\n",
       "\n",
       "    .dataframe tbody tr th {\n",
       "        vertical-align: top;\n",
       "    }\n",
       "\n",
       "    .dataframe thead th {\n",
       "        text-align: right;\n",
       "    }\n",
       "</style>\n",
       "<table border=\"1\" class=\"dataframe\">\n",
       "  <thead>\n",
       "    <tr style=\"text-align: right;\">\n",
       "      <th></th>\n",
       "      <th>BLUE</th>\n",
       "      <th>ORANGE</th>\n",
       "    </tr>\n",
       "  </thead>\n",
       "  <tbody>\n",
       "    <tr>\n",
       "      <th>1</th>\n",
       "      <td>8.91</td>\n",
       "      <td>11.08</td>\n",
       "    </tr>\n",
       "    <tr>\n",
       "      <th>2</th>\n",
       "      <td>8.71</td>\n",
       "      <td>10.71</td>\n",
       "    </tr>\n",
       "    <tr>\n",
       "      <th>3</th>\n",
       "      <td>8.43</td>\n",
       "      <td>11.59</td>\n",
       "    </tr>\n",
       "    <tr>\n",
       "      <th>4</th>\n",
       "      <td>8.73</td>\n",
       "      <td>12.11</td>\n",
       "    </tr>\n",
       "  </tbody>\n",
       "</table>\n",
       "</div>"
      ],
      "text/plain": [
       "   BLUE  ORANGE\n",
       "1  8.91   11.08\n",
       "2  8.71   10.71\n",
       "3  8.43   11.59\n",
       "4  8.73   12.11"
      ]
     },
     "execution_count": 14,
     "metadata": {},
     "output_type": "execute_result"
    }
   ],
   "source": [
    "prices.iloc[1:] #iloc is index location"
   ]
  },
  {
   "cell_type": "code",
   "execution_count": 15,
   "id": "90bb36e9",
   "metadata": {},
   "outputs": [
    {
     "data": {
      "application/vnd.microsoft.datawrangler.viewer.v0+json": {
       "columns": [
        {
         "name": "index",
         "rawType": "int64",
         "type": "integer"
        },
        {
         "name": "BLUE",
         "rawType": "float64",
         "type": "float"
        },
        {
         "name": "ORANGE",
         "rawType": "float64",
         "type": "float"
        }
       ],
       "ref": "0b208b06-a2d9-4a31-823b-9fa05426885f",
       "rows": [
        [
         "0",
         "0.024137931034482918",
         "0.039399624765478425"
        ],
        [
         "1",
         "-0.022446689113355678",
         "-0.03339350180505407"
        ],
        [
         "2",
         "-0.032146957520092",
         "0.08216619981325857"
        ],
        [
         "3",
         "0.03558718861209975",
         "0.04486626402070737"
        ]
       ],
       "shape": {
        "columns": 2,
        "rows": 4
       }
      },
      "text/html": [
       "<div>\n",
       "<style scoped>\n",
       "    .dataframe tbody tr th:only-of-type {\n",
       "        vertical-align: middle;\n",
       "    }\n",
       "\n",
       "    .dataframe tbody tr th {\n",
       "        vertical-align: top;\n",
       "    }\n",
       "\n",
       "    .dataframe thead th {\n",
       "        text-align: right;\n",
       "    }\n",
       "</style>\n",
       "<table border=\"1\" class=\"dataframe\">\n",
       "  <thead>\n",
       "    <tr style=\"text-align: right;\">\n",
       "      <th></th>\n",
       "      <th>BLUE</th>\n",
       "      <th>ORANGE</th>\n",
       "    </tr>\n",
       "  </thead>\n",
       "  <tbody>\n",
       "    <tr>\n",
       "      <th>0</th>\n",
       "      <td>0.024138</td>\n",
       "      <td>0.039400</td>\n",
       "    </tr>\n",
       "    <tr>\n",
       "      <th>1</th>\n",
       "      <td>-0.022447</td>\n",
       "      <td>-0.033394</td>\n",
       "    </tr>\n",
       "    <tr>\n",
       "      <th>2</th>\n",
       "      <td>-0.032147</td>\n",
       "      <td>0.082166</td>\n",
       "    </tr>\n",
       "    <tr>\n",
       "      <th>3</th>\n",
       "      <td>0.035587</td>\n",
       "      <td>0.044866</td>\n",
       "    </tr>\n",
       "  </tbody>\n",
       "</table>\n",
       "</div>"
      ],
      "text/plain": [
       "       BLUE    ORANGE\n",
       "0  0.024138  0.039400\n",
       "1 -0.022447 -0.033394\n",
       "2 -0.032147  0.082166\n",
       "3  0.035587  0.044866"
      ]
     },
     "execution_count": 15,
     "metadata": {},
     "output_type": "execute_result"
    }
   ],
   "source": [
    "prices.iloc[1:].values/prices.iloc[:-1] - 1"
   ]
  },
  {
   "cell_type": "code",
   "execution_count": 16,
   "id": "0317c8be",
   "metadata": {},
   "outputs": [
    {
     "data": {
      "application/vnd.microsoft.datawrangler.viewer.v0+json": {
       "columns": [
        {
         "name": "index",
         "rawType": "int64",
         "type": "integer"
        },
        {
         "name": "BLUE",
         "rawType": "float64",
         "type": "float"
        },
        {
         "name": "ORANGE",
         "rawType": "float64",
         "type": "float"
        }
       ],
       "ref": "cd7562b2-1eb1-49e8-8d5b-c2e68f1a3ceb",
       "rows": [
        [
         "0",
         null,
         null
        ],
        [
         "1",
         "0.024137931034482918",
         "0.039399624765478425"
        ],
        [
         "2",
         "-0.022446689113355678",
         "-0.03339350180505407"
        ],
        [
         "3",
         "-0.032146957520092",
         "0.08216619981325857"
        ],
        [
         "4",
         "0.03558718861209975",
         "0.04486626402070737"
        ]
       ],
       "shape": {
        "columns": 2,
        "rows": 5
       }
      },
      "text/html": [
       "<div>\n",
       "<style scoped>\n",
       "    .dataframe tbody tr th:only-of-type {\n",
       "        vertical-align: middle;\n",
       "    }\n",
       "\n",
       "    .dataframe tbody tr th {\n",
       "        vertical-align: top;\n",
       "    }\n",
       "\n",
       "    .dataframe thead th {\n",
       "        text-align: right;\n",
       "    }\n",
       "</style>\n",
       "<table border=\"1\" class=\"dataframe\">\n",
       "  <thead>\n",
       "    <tr style=\"text-align: right;\">\n",
       "      <th></th>\n",
       "      <th>BLUE</th>\n",
       "      <th>ORANGE</th>\n",
       "    </tr>\n",
       "  </thead>\n",
       "  <tbody>\n",
       "    <tr>\n",
       "      <th>0</th>\n",
       "      <td>NaN</td>\n",
       "      <td>NaN</td>\n",
       "    </tr>\n",
       "    <tr>\n",
       "      <th>1</th>\n",
       "      <td>0.024138</td>\n",
       "      <td>0.039400</td>\n",
       "    </tr>\n",
       "    <tr>\n",
       "      <th>2</th>\n",
       "      <td>-0.022447</td>\n",
       "      <td>-0.033394</td>\n",
       "    </tr>\n",
       "    <tr>\n",
       "      <th>3</th>\n",
       "      <td>-0.032147</td>\n",
       "      <td>0.082166</td>\n",
       "    </tr>\n",
       "    <tr>\n",
       "      <th>4</th>\n",
       "      <td>0.035587</td>\n",
       "      <td>0.044866</td>\n",
       "    </tr>\n",
       "  </tbody>\n",
       "</table>\n",
       "</div>"
      ],
      "text/plain": [
       "       BLUE    ORANGE\n",
       "0       NaN       NaN\n",
       "1  0.024138  0.039400\n",
       "2 -0.022447 -0.033394\n",
       "3 -0.032147  0.082166\n",
       "4  0.035587  0.044866"
      ]
     },
     "execution_count": 16,
     "metadata": {},
     "output_type": "execute_result"
    }
   ],
   "source": [
    "#Alternative way\n",
    "\n",
    "prices/prices.shift(1) - 1"
   ]
  },
  {
   "cell_type": "code",
   "execution_count": 17,
   "id": "cf9bc447",
   "metadata": {},
   "outputs": [
    {
     "data": {
      "application/vnd.microsoft.datawrangler.viewer.v0+json": {
       "columns": [
        {
         "name": "index",
         "rawType": "int64",
         "type": "integer"
        },
        {
         "name": "BLUE",
         "rawType": "float64",
         "type": "float"
        },
        {
         "name": "ORANGE",
         "rawType": "float64",
         "type": "float"
        }
       ],
       "ref": "0190e049-ad6e-40f9-bfa3-a14ef795aa50",
       "rows": [
        [
         "0",
         null,
         null
        ],
        [
         "1",
         "0.024137931034482918",
         "0.039399624765478425"
        ],
        [
         "2",
         "-0.022446689113355678",
         "-0.03339350180505407"
        ],
        [
         "3",
         "-0.032146957520092",
         "0.08216619981325857"
        ],
        [
         "4",
         "0.03558718861209975",
         "0.04486626402070737"
        ]
       ],
       "shape": {
        "columns": 2,
        "rows": 5
       }
      },
      "text/html": [
       "<div>\n",
       "<style scoped>\n",
       "    .dataframe tbody tr th:only-of-type {\n",
       "        vertical-align: middle;\n",
       "    }\n",
       "\n",
       "    .dataframe tbody tr th {\n",
       "        vertical-align: top;\n",
       "    }\n",
       "\n",
       "    .dataframe thead th {\n",
       "        text-align: right;\n",
       "    }\n",
       "</style>\n",
       "<table border=\"1\" class=\"dataframe\">\n",
       "  <thead>\n",
       "    <tr style=\"text-align: right;\">\n",
       "      <th></th>\n",
       "      <th>BLUE</th>\n",
       "      <th>ORANGE</th>\n",
       "    </tr>\n",
       "  </thead>\n",
       "  <tbody>\n",
       "    <tr>\n",
       "      <th>0</th>\n",
       "      <td>NaN</td>\n",
       "      <td>NaN</td>\n",
       "    </tr>\n",
       "    <tr>\n",
       "      <th>1</th>\n",
       "      <td>0.024138</td>\n",
       "      <td>0.039400</td>\n",
       "    </tr>\n",
       "    <tr>\n",
       "      <th>2</th>\n",
       "      <td>-0.022447</td>\n",
       "      <td>-0.033394</td>\n",
       "    </tr>\n",
       "    <tr>\n",
       "      <th>3</th>\n",
       "      <td>-0.032147</td>\n",
       "      <td>0.082166</td>\n",
       "    </tr>\n",
       "    <tr>\n",
       "      <th>4</th>\n",
       "      <td>0.035587</td>\n",
       "      <td>0.044866</td>\n",
       "    </tr>\n",
       "  </tbody>\n",
       "</table>\n",
       "</div>"
      ],
      "text/plain": [
       "       BLUE    ORANGE\n",
       "0       NaN       NaN\n",
       "1  0.024138  0.039400\n",
       "2 -0.022447 -0.033394\n",
       "3 -0.032147  0.082166\n",
       "4  0.035587  0.044866"
      ]
     },
     "execution_count": 17,
     "metadata": {},
     "output_type": "execute_result"
    }
   ],
   "source": [
    "#alternative way using pct_change method\n",
    "prices.pct_change()"
   ]
  },
  {
   "cell_type": "code",
   "execution_count": 18,
   "id": "f3b89920",
   "metadata": {},
   "outputs": [
    {
     "data": {
      "application/vnd.microsoft.datawrangler.viewer.v0+json": {
       "columns": [
        {
         "name": "index",
         "rawType": "int64",
         "type": "integer"
        },
        {
         "name": "BLUE",
         "rawType": "float64",
         "type": "float"
        },
        {
         "name": "ORANGE",
         "rawType": "float64",
         "type": "float"
        }
       ],
       "ref": "9d94db18-ccd1-40e1-b459-b16563cc82c5",
       "rows": [
        [
         "0",
         "8.7",
         "10.66"
        ],
        [
         "1",
         "8.9055",
         "11.0828"
        ],
        [
         "2",
         "8.7113",
         "10.71"
        ],
        [
         "3",
         "8.4346",
         "11.5907"
        ],
        [
         "4",
         "8.7254",
         "12.107"
        ],
        [
         "5",
         "9.0551",
         "11.7876"
        ],
        [
         "6",
         "8.9514",
         "11.2078"
        ],
        [
         "7",
         "9.2439",
         "12.5192"
        ],
        [
         "8",
         "9.1276",
         "13.3624"
        ],
        [
         "9",
         "9.3976",
         "14.408"
        ],
        [
         "10",
         "9.4554",
         "11.9837"
        ],
        [
         "11",
         "9.5704",
         "12.2718"
        ],
        [
         "12",
         "9.7728",
         "11.5892"
        ]
       ],
       "shape": {
        "columns": 2,
        "rows": 13
       }
      },
      "text/html": [
       "<div>\n",
       "<style scoped>\n",
       "    .dataframe tbody tr th:only-of-type {\n",
       "        vertical-align: middle;\n",
       "    }\n",
       "\n",
       "    .dataframe tbody tr th {\n",
       "        vertical-align: top;\n",
       "    }\n",
       "\n",
       "    .dataframe thead th {\n",
       "        text-align: right;\n",
       "    }\n",
       "</style>\n",
       "<table border=\"1\" class=\"dataframe\">\n",
       "  <thead>\n",
       "    <tr style=\"text-align: right;\">\n",
       "      <th></th>\n",
       "      <th>BLUE</th>\n",
       "      <th>ORANGE</th>\n",
       "    </tr>\n",
       "  </thead>\n",
       "  <tbody>\n",
       "    <tr>\n",
       "      <th>0</th>\n",
       "      <td>8.7000</td>\n",
       "      <td>10.6600</td>\n",
       "    </tr>\n",
       "    <tr>\n",
       "      <th>1</th>\n",
       "      <td>8.9055</td>\n",
       "      <td>11.0828</td>\n",
       "    </tr>\n",
       "    <tr>\n",
       "      <th>2</th>\n",
       "      <td>8.7113</td>\n",
       "      <td>10.7100</td>\n",
       "    </tr>\n",
       "    <tr>\n",
       "      <th>3</th>\n",
       "      <td>8.4346</td>\n",
       "      <td>11.5907</td>\n",
       "    </tr>\n",
       "    <tr>\n",
       "      <th>4</th>\n",
       "      <td>8.7254</td>\n",
       "      <td>12.1070</td>\n",
       "    </tr>\n",
       "    <tr>\n",
       "      <th>5</th>\n",
       "      <td>9.0551</td>\n",
       "      <td>11.7876</td>\n",
       "    </tr>\n",
       "    <tr>\n",
       "      <th>6</th>\n",
       "      <td>8.9514</td>\n",
       "      <td>11.2078</td>\n",
       "    </tr>\n",
       "    <tr>\n",
       "      <th>7</th>\n",
       "      <td>9.2439</td>\n",
       "      <td>12.5192</td>\n",
       "    </tr>\n",
       "    <tr>\n",
       "      <th>8</th>\n",
       "      <td>9.1276</td>\n",
       "      <td>13.3624</td>\n",
       "    </tr>\n",
       "    <tr>\n",
       "      <th>9</th>\n",
       "      <td>9.3976</td>\n",
       "      <td>14.4080</td>\n",
       "    </tr>\n",
       "    <tr>\n",
       "      <th>10</th>\n",
       "      <td>9.4554</td>\n",
       "      <td>11.9837</td>\n",
       "    </tr>\n",
       "    <tr>\n",
       "      <th>11</th>\n",
       "      <td>9.5704</td>\n",
       "      <td>12.2718</td>\n",
       "    </tr>\n",
       "    <tr>\n",
       "      <th>12</th>\n",
       "      <td>9.7728</td>\n",
       "      <td>11.5892</td>\n",
       "    </tr>\n",
       "  </tbody>\n",
       "</table>\n",
       "</div>"
      ],
      "text/plain": [
       "      BLUE   ORANGE\n",
       "0   8.7000  10.6600\n",
       "1   8.9055  11.0828\n",
       "2   8.7113  10.7100\n",
       "3   8.4346  11.5907\n",
       "4   8.7254  12.1070\n",
       "5   9.0551  11.7876\n",
       "6   8.9514  11.2078\n",
       "7   9.2439  12.5192\n",
       "8   9.1276  13.3624\n",
       "9   9.3976  14.4080\n",
       "10  9.4554  11.9837\n",
       "11  9.5704  12.2718\n",
       "12  9.7728  11.5892"
      ]
     },
     "execution_count": 18,
     "metadata": {},
     "output_type": "execute_result"
    }
   ],
   "source": [
    "prices = pd.read_csv(\"data/sample_prices.csv\")\n",
    "prices"
   ]
  },
  {
   "cell_type": "code",
   "execution_count": 19,
   "id": "b2334846",
   "metadata": {},
   "outputs": [
    {
     "data": {
      "application/vnd.microsoft.datawrangler.viewer.v0+json": {
       "columns": [
        {
         "name": "index",
         "rawType": "int64",
         "type": "integer"
        },
        {
         "name": "BLUE",
         "rawType": "float64",
         "type": "float"
        },
        {
         "name": "ORANGE",
         "rawType": "float64",
         "type": "float"
        }
       ],
       "ref": "f6528daa-dc61-4315-8f98-0c60ce3c5cfc",
       "rows": [
        [
         "0",
         null,
         null
        ],
        [
         "1",
         "0.0236206896551725",
         "0.03966228893058177"
        ],
        [
         "2",
         "-0.021806748638481865",
         "-0.03363770888223194"
        ],
        [
         "3",
         "-0.03176334186631158",
         "0.08223155929038284"
        ],
        [
         "4",
         "0.034477035069831574",
         "0.044544332956594435"
        ],
        [
         "5",
         "0.0377862332958947",
         "-0.026381432229288793"
        ],
        [
         "6",
         "-0.01145210986074141",
         "-0.049187281550103434"
        ],
        [
         "7",
         "0.03267645284536491",
         "0.1170077981405806"
        ],
        [
         "8",
         "-0.012581269810361562",
         "0.06735254648859357"
        ],
        [
         "9",
         "0.029580612647355453",
         "0.07824941627252602"
        ],
        [
         "10",
         "0.006150506512300868",
         "-0.16826068850638531"
        ],
        [
         "11",
         "0.01216236224802758",
         "0.024040989010072122"
        ],
        [
         "12",
         "0.021148541335785476",
         "-0.05562346192082668"
        ]
       ],
       "shape": {
        "columns": 2,
        "rows": 13
       }
      },
      "text/html": [
       "<div>\n",
       "<style scoped>\n",
       "    .dataframe tbody tr th:only-of-type {\n",
       "        vertical-align: middle;\n",
       "    }\n",
       "\n",
       "    .dataframe tbody tr th {\n",
       "        vertical-align: top;\n",
       "    }\n",
       "\n",
       "    .dataframe thead th {\n",
       "        text-align: right;\n",
       "    }\n",
       "</style>\n",
       "<table border=\"1\" class=\"dataframe\">\n",
       "  <thead>\n",
       "    <tr style=\"text-align: right;\">\n",
       "      <th></th>\n",
       "      <th>BLUE</th>\n",
       "      <th>ORANGE</th>\n",
       "    </tr>\n",
       "  </thead>\n",
       "  <tbody>\n",
       "    <tr>\n",
       "      <th>0</th>\n",
       "      <td>NaN</td>\n",
       "      <td>NaN</td>\n",
       "    </tr>\n",
       "    <tr>\n",
       "      <th>1</th>\n",
       "      <td>0.023621</td>\n",
       "      <td>0.039662</td>\n",
       "    </tr>\n",
       "    <tr>\n",
       "      <th>2</th>\n",
       "      <td>-0.021807</td>\n",
       "      <td>-0.033638</td>\n",
       "    </tr>\n",
       "    <tr>\n",
       "      <th>3</th>\n",
       "      <td>-0.031763</td>\n",
       "      <td>0.082232</td>\n",
       "    </tr>\n",
       "    <tr>\n",
       "      <th>4</th>\n",
       "      <td>0.034477</td>\n",
       "      <td>0.044544</td>\n",
       "    </tr>\n",
       "    <tr>\n",
       "      <th>5</th>\n",
       "      <td>0.037786</td>\n",
       "      <td>-0.026381</td>\n",
       "    </tr>\n",
       "    <tr>\n",
       "      <th>6</th>\n",
       "      <td>-0.011452</td>\n",
       "      <td>-0.049187</td>\n",
       "    </tr>\n",
       "    <tr>\n",
       "      <th>7</th>\n",
       "      <td>0.032676</td>\n",
       "      <td>0.117008</td>\n",
       "    </tr>\n",
       "    <tr>\n",
       "      <th>8</th>\n",
       "      <td>-0.012581</td>\n",
       "      <td>0.067353</td>\n",
       "    </tr>\n",
       "    <tr>\n",
       "      <th>9</th>\n",
       "      <td>0.029581</td>\n",
       "      <td>0.078249</td>\n",
       "    </tr>\n",
       "    <tr>\n",
       "      <th>10</th>\n",
       "      <td>0.006151</td>\n",
       "      <td>-0.168261</td>\n",
       "    </tr>\n",
       "    <tr>\n",
       "      <th>11</th>\n",
       "      <td>0.012162</td>\n",
       "      <td>0.024041</td>\n",
       "    </tr>\n",
       "    <tr>\n",
       "      <th>12</th>\n",
       "      <td>0.021149</td>\n",
       "      <td>-0.055623</td>\n",
       "    </tr>\n",
       "  </tbody>\n",
       "</table>\n",
       "</div>"
      ],
      "text/plain": [
       "        BLUE    ORANGE\n",
       "0        NaN       NaN\n",
       "1   0.023621  0.039662\n",
       "2  -0.021807 -0.033638\n",
       "3  -0.031763  0.082232\n",
       "4   0.034477  0.044544\n",
       "5   0.037786 -0.026381\n",
       "6  -0.011452 -0.049187\n",
       "7   0.032676  0.117008\n",
       "8  -0.012581  0.067353\n",
       "9   0.029581  0.078249\n",
       "10  0.006151 -0.168261\n",
       "11  0.012162  0.024041\n",
       "12  0.021149 -0.055623"
      ]
     },
     "execution_count": 19,
     "metadata": {},
     "output_type": "execute_result"
    }
   ],
   "source": [
    "returns = prices.pct_change()\n",
    "returns"
   ]
  },
  {
   "cell_type": "code",
   "execution_count": 20,
   "id": "6f8fd971",
   "metadata": {},
   "outputs": [
    {
     "data": {
      "text/plain": [
       "<Axes: >"
      ]
     },
     "execution_count": 20,
     "metadata": {},
     "output_type": "execute_result"
    },
    {
     "data": {
      "image/png": "[encoded data removed]",
      "text/plain": [
       "<Figure size 640x480 with 1 Axes>"
      ]
     },
     "metadata": {},
     "output_type": "display_data"
    }
   ],
   "source": [
    "prices.plot()"
   ]
  },
  {
   "cell_type": "code",
   "execution_count": 21,
   "id": "3869935b",
   "metadata": {},
   "outputs": [
    {
     "data": {
      "text/plain": [
       "<Axes: >"
      ]
     },
     "execution_count": 21,
     "metadata": {},
     "output_type": "execute_result"
    },
    {
     "data": {
      "image/png": "[encoded data removed]",
      "text/plain": [
       "<Figure size 640x480 with 1 Axes>"
      ]
     },
     "metadata": {},
     "output_type": "display_data"
    }
   ],
   "source": [
    "returns.plot.bar()"
   ]
  },
  {
   "cell_type": "code",
   "execution_count": 22,
   "id": "2aac1f64",
   "metadata": {},
   "outputs": [
    {
     "data": {
      "application/vnd.microsoft.datawrangler.viewer.v0+json": {
       "columns": [
        {
         "name": "index",
         "rawType": "object",
         "type": "string"
        },
        {
         "name": "0",
         "rawType": "float64",
         "type": "float"
        }
       ],
       "ref": "17ecc179-4dea-4144-8603-e6142a5cb1e6",
       "rows": [
        [
         "BLUE",
         "0.023977417840940117"
        ],
        [
         "ORANGE",
         "0.0796012679735331"
        ]
       ],
       "shape": {
        "columns": 1,
        "rows": 2
       }
      },
      "text/plain": [
       "BLUE      0.023977\n",
       "ORANGE    0.079601\n",
       "dtype: float64"
      ]
     },
     "execution_count": 22,
     "metadata": {},
     "output_type": "execute_result"
    }
   ],
   "source": [
    "returns.std()"
   ]
  },
  {
   "cell_type": "code",
   "execution_count": 23,
   "id": "e637bbb7",
   "metadata": {},
   "outputs": [
    {
     "data": {
      "application/vnd.microsoft.datawrangler.viewer.v0+json": {
       "columns": [
        {
         "name": "index",
         "rawType": "int64",
         "type": "integer"
        },
        {
         "name": "BLUE",
         "rawType": "float64",
         "type": "float"
        },
        {
         "name": "ORANGE",
         "rawType": "float64",
         "type": "float"
        }
       ],
       "ref": "92d11e0c-6633-4591-b418-9e36b598f75b",
       "rows": [
        [
         "0",
         null,
         null
        ],
        [
         "1",
         "1.0236206896551725",
         "1.0396622889305818"
        ],
        [
         "2",
         "0.9781932513615181",
         "0.9663622911177681"
        ],
        [
         "3",
         "0.9682366581336884",
         "1.0822315592903828"
        ],
        [
         "4",
         "1.0344770350698316",
         "1.0445443329565944"
        ],
        [
         "5",
         "1.0377862332958947",
         "0.9736185677707112"
        ],
        [
         "6",
         "0.9885478901392586",
         "0.9508127184498966"
        ],
        [
         "7",
         "1.032676452845365",
         "1.1170077981405806"
        ],
        [
         "8",
         "0.9874187301896384",
         "1.0673525464885936"
        ],
        [
         "9",
         "1.0295806126473555",
         "1.078249416272526"
        ],
        [
         "10",
         "1.0061505065123009",
         "0.8317393114936147"
        ],
        [
         "11",
         "1.0121623622480276",
         "1.0240409890100721"
        ],
        [
         "12",
         "1.0211485413357855",
         "0.9443765380791733"
        ]
       ],
       "shape": {
        "columns": 2,
        "rows": 13
       }
      },
      "text/html": [
       "<div>\n",
       "<style scoped>\n",
       "    .dataframe tbody tr th:only-of-type {\n",
       "        vertical-align: middle;\n",
       "    }\n",
       "\n",
       "    .dataframe tbody tr th {\n",
       "        vertical-align: top;\n",
       "    }\n",
       "\n",
       "    .dataframe thead th {\n",
       "        text-align: right;\n",
       "    }\n",
       "</style>\n",
       "<table border=\"1\" class=\"dataframe\">\n",
       "  <thead>\n",
       "    <tr style=\"text-align: right;\">\n",
       "      <th></th>\n",
       "      <th>BLUE</th>\n",
       "      <th>ORANGE</th>\n",
       "    </tr>\n",
       "  </thead>\n",
       "  <tbody>\n",
       "    <tr>\n",
       "      <th>0</th>\n",
       "      <td>NaN</td>\n",
       "      <td>NaN</td>\n",
       "    </tr>\n",
       "    <tr>\n",
       "      <th>1</th>\n",
       "      <td>1.023621</td>\n",
       "      <td>1.039662</td>\n",
       "    </tr>\n",
       "    <tr>\n",
       "      <th>2</th>\n",
       "      <td>0.978193</td>\n",
       "      <td>0.966362</td>\n",
       "    </tr>\n",
       "    <tr>\n",
       "      <th>3</th>\n",
       "      <td>0.968237</td>\n",
       "      <td>1.082232</td>\n",
       "    </tr>\n",
       "    <tr>\n",
       "      <th>4</th>\n",
       "      <td>1.034477</td>\n",
       "      <td>1.044544</td>\n",
       "    </tr>\n",
       "    <tr>\n",
       "      <th>5</th>\n",
       "      <td>1.037786</td>\n",
       "      <td>0.973619</td>\n",
       "    </tr>\n",
       "    <tr>\n",
       "      <th>6</th>\n",
       "      <td>0.988548</td>\n",
       "      <td>0.950813</td>\n",
       "    </tr>\n",
       "    <tr>\n",
       "      <th>7</th>\n",
       "      <td>1.032676</td>\n",
       "      <td>1.117008</td>\n",
       "    </tr>\n",
       "    <tr>\n",
       "      <th>8</th>\n",
       "      <td>0.987419</td>\n",
       "      <td>1.067353</td>\n",
       "    </tr>\n",
       "    <tr>\n",
       "      <th>9</th>\n",
       "      <td>1.029581</td>\n",
       "      <td>1.078249</td>\n",
       "    </tr>\n",
       "    <tr>\n",
       "      <th>10</th>\n",
       "      <td>1.006151</td>\n",
       "      <td>0.831739</td>\n",
       "    </tr>\n",
       "    <tr>\n",
       "      <th>11</th>\n",
       "      <td>1.012162</td>\n",
       "      <td>1.024041</td>\n",
       "    </tr>\n",
       "    <tr>\n",
       "      <th>12</th>\n",
       "      <td>1.021149</td>\n",
       "      <td>0.944377</td>\n",
       "    </tr>\n",
       "  </tbody>\n",
       "</table>\n",
       "</div>"
      ],
      "text/plain": [
       "        BLUE    ORANGE\n",
       "0        NaN       NaN\n",
       "1   1.023621  1.039662\n",
       "2   0.978193  0.966362\n",
       "3   0.968237  1.082232\n",
       "4   1.034477  1.044544\n",
       "5   1.037786  0.973619\n",
       "6   0.988548  0.950813\n",
       "7   1.032676  1.117008\n",
       "8   0.987419  1.067353\n",
       "9   1.029581  1.078249\n",
       "10  1.006151  0.831739\n",
       "11  1.012162  1.024041\n",
       "12  1.021149  0.944377"
      ]
     },
     "execution_count": 23,
     "metadata": {},
     "output_type": "execute_result"
    }
   ],
   "source": [
    "returns+1"
   ]
  },
  {
   "cell_type": "code",
   "execution_count": 24,
   "id": "bf6fa092",
   "metadata": {},
   "outputs": [
    {
     "name": "stderr",
     "output_type": "stream",
     "text": [
      "c:\\Users\\franc\\anaconda3\\envs\\portfolio\\Lib\\site-packages\\numpy\\_core\\fromnumeric.py:84: FutureWarning: The behavior of DataFrame.prod with axis=None is deprecated, in a future version this will reduce over both axes and return a scalar. To retain the old behavior, pass axis=0 (or do not pass axis)\n",
      "  return reduction(axis=axis, out=out, **passkwargs)\n"
     ]
    },
    {
     "data": {
      "application/vnd.microsoft.datawrangler.viewer.v0+json": {
       "columns": [
        {
         "name": "index",
         "rawType": "object",
         "type": "string"
        },
        {
         "name": "0",
         "rawType": "float64",
         "type": "float"
        }
       ],
       "ref": "5659a736-259b-46af-8d09-a1ec53682df6",
       "rows": [
        [
         "BLUE",
         "0.12331034482758652"
        ],
        [
         "ORANGE",
         "0.08716697936210194"
        ]
       ],
       "shape": {
        "columns": 1,
        "rows": 2
       }
      },
      "text/plain": [
       "BLUE      0.123310\n",
       "ORANGE    0.087167\n",
       "dtype: float64"
      ]
     },
     "execution_count": 24,
     "metadata": {},
     "output_type": "execute_result"
    }
   ],
   "source": [
    "np.prod(returns+1)-1 #calculation of the compound return over the entire period. We multiply all the (1+return) and subtract 1 at the end.\n",
    "#or\n",
    "(returns+1).prod()-1"
   ]
  },
  {
   "cell_type": "markdown",
   "id": "25d12826",
   "metadata": {},
   "source": [
    "#### Lab1: Annualization"
   ]
  },
  {
   "cell_type": "code",
   "execution_count": 25,
   "id": "2da2f706",
   "metadata": {},
   "outputs": [
    {
     "name": "stdout",
     "output_type": "stream",
     "text": [
      "Monthly to Annual: 12.68%\n",
      "Quarterly to Annual: 4.06%\n"
     ]
    }
   ],
   "source": [
    "rm = .01\n",
    "print(f\"Monthly to Annual: {(1+rm)**12 - 1:.2%}\")\n",
    "print(f\"Quarterly to Annual: {(1+rm)**4 - 1:.2%}\")\n"
   ]
  },
  {
   "cell_type": "markdown",
   "id": "3b28713c",
   "metadata": {},
   "source": [
    "#### Lab2: Volatility"
   ]
  },
  {
   "cell_type": "code",
   "execution_count": 26,
   "id": "537acb67",
   "metadata": {},
   "outputs": [],
   "source": [
    "returns = returns.dropna() #drop the NA values that appear in the first row\n"
   ]
  },
  {
   "cell_type": "code",
   "execution_count": 27,
   "id": "0d70e791",
   "metadata": {},
   "outputs": [
    {
     "data": {
      "application/vnd.microsoft.datawrangler.viewer.v0+json": {
       "columns": [
        {
         "name": "index",
         "rawType": "int64",
         "type": "integer"
        },
        {
         "name": "BLUE",
         "rawType": "float64",
         "type": "float"
        },
        {
         "name": "ORANGE",
         "rawType": "float64",
         "type": "float"
        }
       ],
       "ref": "25592d03-0429-4233-b143-e6c60b0a7f79",
       "rows": [
        [
         "1",
         "0.0236206896551725",
         "0.03966228893058177"
        ],
        [
         "2",
         "-0.021806748638481865",
         "-0.03363770888223194"
        ],
        [
         "3",
         "-0.03176334186631158",
         "0.08223155929038284"
        ],
        [
         "4",
         "0.034477035069831574",
         "0.044544332956594435"
        ],
        [
         "5",
         "0.0377862332958947",
         "-0.026381432229288793"
        ],
        [
         "6",
         "-0.01145210986074141",
         "-0.049187281550103434"
        ],
        [
         "7",
         "0.03267645284536491",
         "0.1170077981405806"
        ],
        [
         "8",
         "-0.012581269810361562",
         "0.06735254648859357"
        ],
        [
         "9",
         "0.029580612647355453",
         "0.07824941627252602"
        ],
        [
         "10",
         "0.006150506512300868",
         "-0.16826068850638531"
        ],
        [
         "11",
         "0.01216236224802758",
         "0.024040989010072122"
        ],
        [
         "12",
         "0.021148541335785476",
         "-0.05562346192082668"
        ]
       ],
       "shape": {
        "columns": 2,
        "rows": 12
       }
      },
      "text/html": [
       "<div>\n",
       "<style scoped>\n",
       "    .dataframe tbody tr th:only-of-type {\n",
       "        vertical-align: middle;\n",
       "    }\n",
       "\n",
       "    .dataframe tbody tr th {\n",
       "        vertical-align: top;\n",
       "    }\n",
       "\n",
       "    .dataframe thead th {\n",
       "        text-align: right;\n",
       "    }\n",
       "</style>\n",
       "<table border=\"1\" class=\"dataframe\">\n",
       "  <thead>\n",
       "    <tr style=\"text-align: right;\">\n",
       "      <th></th>\n",
       "      <th>BLUE</th>\n",
       "      <th>ORANGE</th>\n",
       "    </tr>\n",
       "  </thead>\n",
       "  <tbody>\n",
       "    <tr>\n",
       "      <th>1</th>\n",
       "      <td>0.023621</td>\n",
       "      <td>0.039662</td>\n",
       "    </tr>\n",
       "    <tr>\n",
       "      <th>2</th>\n",
       "      <td>-0.021807</td>\n",
       "      <td>-0.033638</td>\n",
       "    </tr>\n",
       "    <tr>\n",
       "      <th>3</th>\n",
       "      <td>-0.031763</td>\n",
       "      <td>0.082232</td>\n",
       "    </tr>\n",
       "    <tr>\n",
       "      <th>4</th>\n",
       "      <td>0.034477</td>\n",
       "      <td>0.044544</td>\n",
       "    </tr>\n",
       "    <tr>\n",
       "      <th>5</th>\n",
       "      <td>0.037786</td>\n",
       "      <td>-0.026381</td>\n",
       "    </tr>\n",
       "    <tr>\n",
       "      <th>6</th>\n",
       "      <td>-0.011452</td>\n",
       "      <td>-0.049187</td>\n",
       "    </tr>\n",
       "    <tr>\n",
       "      <th>7</th>\n",
       "      <td>0.032676</td>\n",
       "      <td>0.117008</td>\n",
       "    </tr>\n",
       "    <tr>\n",
       "      <th>8</th>\n",
       "      <td>-0.012581</td>\n",
       "      <td>0.067353</td>\n",
       "    </tr>\n",
       "    <tr>\n",
       "      <th>9</th>\n",
       "      <td>0.029581</td>\n",
       "      <td>0.078249</td>\n",
       "    </tr>\n",
       "    <tr>\n",
       "      <th>10</th>\n",
       "      <td>0.006151</td>\n",
       "      <td>-0.168261</td>\n",
       "    </tr>\n",
       "    <tr>\n",
       "      <th>11</th>\n",
       "      <td>0.012162</td>\n",
       "      <td>0.024041</td>\n",
       "    </tr>\n",
       "    <tr>\n",
       "      <th>12</th>\n",
       "      <td>0.021149</td>\n",
       "      <td>-0.055623</td>\n",
       "    </tr>\n",
       "  </tbody>\n",
       "</table>\n",
       "</div>"
      ],
      "text/plain": [
       "        BLUE    ORANGE\n",
       "1   0.023621  0.039662\n",
       "2  -0.021807 -0.033638\n",
       "3  -0.031763  0.082232\n",
       "4   0.034477  0.044544\n",
       "5   0.037786 -0.026381\n",
       "6  -0.011452 -0.049187\n",
       "7   0.032676  0.117008\n",
       "8  -0.012581  0.067353\n",
       "9   0.029581  0.078249\n",
       "10  0.006151 -0.168261\n",
       "11  0.012162  0.024041\n",
       "12  0.021149 -0.055623"
      ]
     },
     "execution_count": 27,
     "metadata": {},
     "output_type": "execute_result"
    }
   ],
   "source": [
    "returns"
   ]
  },
  {
   "cell_type": "code",
   "execution_count": 28,
   "id": "0d4d68bd",
   "metadata": {},
   "outputs": [
    {
     "data": {
      "application/vnd.microsoft.datawrangler.viewer.v0+json": {
       "columns": [
        {
         "name": "index",
         "rawType": "object",
         "type": "string"
        },
        {
         "name": "0",
         "rawType": "float64",
         "type": "float"
        }
       ],
       "ref": "c3a8e44f-d1a8-476c-a993-66d7effb0f1a",
       "rows": [
        [
         "BLUE",
         "0.023977417840940117"
        ],
        [
         "ORANGE",
         "0.0796012679735331"
        ]
       ],
       "shape": {
        "columns": 1,
        "rows": 2
       }
      },
      "text/plain": [
       "BLUE      0.023977\n",
       "ORANGE    0.079601\n",
       "dtype: float64"
      ]
     },
     "execution_count": 28,
     "metadata": {},
     "output_type": "execute_result"
    }
   ],
   "source": [
    "returns.std()"
   ]
  },
  {
   "cell_type": "code",
   "execution_count": 29,
   "id": "175adba4",
   "metadata": {},
   "outputs": [
    {
     "data": {
      "application/vnd.microsoft.datawrangler.viewer.v0+json": {
       "columns": [
        {
         "name": "index",
         "rawType": "int64",
         "type": "integer"
        },
        {
         "name": "BLUE",
         "rawType": "float64",
         "type": "float"
        },
        {
         "name": "ORANGE",
         "rawType": "float64",
         "type": "float"
        }
       ],
       "ref": "e1e2c04e-c6ab-4b6a-850a-68a7397dc7f5",
       "rows": [
        [
         "1",
         "0.013620776035686113",
         "0.02966242576387384"
        ],
        [
         "2",
         "-0.03180666225796825",
         "-0.04363757204893987"
        ],
        [
         "3",
         "-0.041763255485797963",
         "0.0722316961236749"
        ],
        [
         "4",
         "0.02447712145034519",
         "0.034544469789886505"
        ],
        [
         "5",
         "0.027786319676408315",
         "-0.03638129539599672"
        ],
        [
         "6",
         "-0.021452023480227796",
         "-0.059187144716811364"
        ],
        [
         "7",
         "0.022676539225878527",
         "0.10700793497387266"
        ],
        [
         "8",
         "-0.022581183429847947",
         "0.05735268332188564"
        ],
        [
         "9",
         "0.019580699027869068",
         "0.06824955310581808"
        ],
        [
         "10",
         "-0.0038494071071855183",
         "-0.17826055167309324"
        ],
        [
         "11",
         "0.002162448628541194",
         "0.01404112584336419"
        ],
        [
         "12",
         "0.011148627716299089",
         "-0.06562332508753461"
        ]
       ],
       "shape": {
        "columns": 2,
        "rows": 12
       }
      },
      "text/html": [
       "<div>\n",
       "<style scoped>\n",
       "    .dataframe tbody tr th:only-of-type {\n",
       "        vertical-align: middle;\n",
       "    }\n",
       "\n",
       "    .dataframe tbody tr th {\n",
       "        vertical-align: top;\n",
       "    }\n",
       "\n",
       "    .dataframe thead th {\n",
       "        text-align: right;\n",
       "    }\n",
       "</style>\n",
       "<table border=\"1\" class=\"dataframe\">\n",
       "  <thead>\n",
       "    <tr style=\"text-align: right;\">\n",
       "      <th></th>\n",
       "      <th>BLUE</th>\n",
       "      <th>ORANGE</th>\n",
       "    </tr>\n",
       "  </thead>\n",
       "  <tbody>\n",
       "    <tr>\n",
       "      <th>1</th>\n",
       "      <td>0.013621</td>\n",
       "      <td>0.029662</td>\n",
       "    </tr>\n",
       "    <tr>\n",
       "      <th>2</th>\n",
       "      <td>-0.031807</td>\n",
       "      <td>-0.043638</td>\n",
       "    </tr>\n",
       "    <tr>\n",
       "      <th>3</th>\n",
       "      <td>-0.041763</td>\n",
       "      <td>0.072232</td>\n",
       "    </tr>\n",
       "    <tr>\n",
       "      <th>4</th>\n",
       "      <td>0.024477</td>\n",
       "      <td>0.034544</td>\n",
       "    </tr>\n",
       "    <tr>\n",
       "      <th>5</th>\n",
       "      <td>0.027786</td>\n",
       "      <td>-0.036381</td>\n",
       "    </tr>\n",
       "    <tr>\n",
       "      <th>6</th>\n",
       "      <td>-0.021452</td>\n",
       "      <td>-0.059187</td>\n",
       "    </tr>\n",
       "    <tr>\n",
       "      <th>7</th>\n",
       "      <td>0.022677</td>\n",
       "      <td>0.107008</td>\n",
       "    </tr>\n",
       "    <tr>\n",
       "      <th>8</th>\n",
       "      <td>-0.022581</td>\n",
       "      <td>0.057353</td>\n",
       "    </tr>\n",
       "    <tr>\n",
       "      <th>9</th>\n",
       "      <td>0.019581</td>\n",
       "      <td>0.068250</td>\n",
       "    </tr>\n",
       "    <tr>\n",
       "      <th>10</th>\n",
       "      <td>-0.003849</td>\n",
       "      <td>-0.178261</td>\n",
       "    </tr>\n",
       "    <tr>\n",
       "      <th>11</th>\n",
       "      <td>0.002162</td>\n",
       "      <td>0.014041</td>\n",
       "    </tr>\n",
       "    <tr>\n",
       "      <th>12</th>\n",
       "      <td>0.011149</td>\n",
       "      <td>-0.065623</td>\n",
       "    </tr>\n",
       "  </tbody>\n",
       "</table>\n",
       "</div>"
      ],
      "text/plain": [
       "        BLUE    ORANGE\n",
       "1   0.013621  0.029662\n",
       "2  -0.031807 -0.043638\n",
       "3  -0.041763  0.072232\n",
       "4   0.024477  0.034544\n",
       "5   0.027786 -0.036381\n",
       "6  -0.021452 -0.059187\n",
       "7   0.022677  0.107008\n",
       "8  -0.022581  0.057353\n",
       "9   0.019581  0.068250\n",
       "10 -0.003849 -0.178261\n",
       "11  0.002162  0.014041\n",
       "12  0.011149 -0.065623"
      ]
     },
     "execution_count": 29,
     "metadata": {},
     "output_type": "execute_result"
    }
   ],
   "source": [
    "deviations = returns- returns.mean()\n",
    "deviations"
   ]
  },
  {
   "cell_type": "code",
   "execution_count": 30,
   "id": "4adb221f",
   "metadata": {},
   "outputs": [
    {
     "data": {
      "application/vnd.microsoft.datawrangler.viewer.v0+json": {
       "columns": [
        {
         "name": "index",
         "rawType": "object",
         "type": "string"
        },
        {
         "name": "0",
         "rawType": "float64",
         "type": "float"
        }
       ],
       "ref": "5b7aab30-e5c6-40f9-9f16-03777d99618a",
       "rows": [
        [
         "BLUE",
         "0.02295662981491652"
        ],
        [
         "ORANGE",
         "0.07621241176963703"
        ]
       ],
       "shape": {
        "columns": 1,
        "rows": 2
       }
      },
      "text/plain": [
       "BLUE      0.022957\n",
       "ORANGE    0.076212\n",
       "dtype: float64"
      ]
     },
     "execution_count": 30,
     "metadata": {},
     "output_type": "execute_result"
    }
   ],
   "source": [
    "squared_deviations = deviations**2\n",
    "variance = squared_deviations.mean()\n",
    "\n",
    "\n",
    "\n",
    "volatility = np.sqrt(variance)\n",
    "volatility #Not same result as SD because in SD formula we divide by N+1 because it is a sample, not the entire population (using mean dividing by N)"
   ]
  },
  {
   "cell_type": "code",
   "execution_count": 31,
   "id": "84d280e7",
   "metadata": {},
   "outputs": [
    {
     "data": {
      "text/plain": [
       "(12, 2)"
      ]
     },
     "execution_count": 31,
     "metadata": {},
     "output_type": "execute_result"
    }
   ],
   "source": [
    "returns.shape"
   ]
  },
  {
   "cell_type": "code",
   "execution_count": 32,
   "id": "8cd23c5f",
   "metadata": {},
   "outputs": [
    {
     "name": "stdout",
     "output_type": "stream",
     "text": [
      "BLUE      0.023977\n",
      "ORANGE    0.079601\n",
      "dtype: float64\n",
      "BLUE      0.023977\n",
      "ORANGE    0.079601\n",
      "dtype: float64\n"
     ]
    }
   ],
   "source": [
    "number_of_obs = returns.shape[0]\n",
    "\n",
    "variance = (squared_deviations.sum())/(number_of_obs-1)\n",
    "volatility = np.sqrt(variance)\n",
    "\n",
    "print(volatility)\n",
    "print(returns.std())"
   ]
  },
  {
   "cell_type": "code",
   "execution_count": 33,
   "id": "026300b4",
   "metadata": {},
   "outputs": [
    {
     "data": {
      "application/vnd.microsoft.datawrangler.viewer.v0+json": {
       "columns": [
        {
         "name": "index",
         "rawType": "object",
         "type": "string"
        },
        {
         "name": "0",
         "rawType": "float64",
         "type": "float"
        }
       ],
       "ref": "558c54bf-f570-4301-92cf-5e0dc3b2952a",
       "rows": [
        [
         "BLUE",
         "0.08306021186963347"
        ],
        [
         "ORANGE",
         "0.27574688095412925"
        ]
       ],
       "shape": {
        "columns": 1,
        "rows": 2
       }
      },
      "text/plain": [
       "BLUE      0.083060\n",
       "ORANGE    0.275747\n",
       "dtype: float64"
      ]
     },
     "execution_count": 33,
     "metadata": {},
     "output_type": "execute_result"
    }
   ],
   "source": [
    "volatility*np.sqrt(12)"
   ]
  },
  {
   "cell_type": "code",
   "execution_count": 34,
   "id": "4bab02bb",
   "metadata": {},
   "outputs": [
    {
     "name": "stderr",
     "output_type": "stream",
     "text": [
      "C:\\Users\\franc\\AppData\\Local\\Temp\\ipykernel_32408\\2300222599.py:1: UserWarning: Could not infer format, so each element will be parsed individually, falling back to `dateutil`. To ensure parsing is consistent and as-expected, please specify a format.\n",
      "  returns = pd.read_csv(\"data/Portfolios_Formed_on_ME_monthly_EW.csv\",\n"
     ]
    }
   ],
   "source": [
    "returns = pd.read_csv(\"data/Portfolios_Formed_on_ME_monthly_EW.csv\",\n",
    "                      header=0, index_col=0,parse_dates=True,na_values=-99.99)"
   ]
  },
  {
   "cell_type": "code",
   "execution_count": 35,
   "id": "023dfe59",
   "metadata": {},
   "outputs": [
    {
     "data": {
      "application/vnd.microsoft.datawrangler.viewer.v0+json": {
       "columns": [
        {
         "name": "index",
         "rawType": "int64",
         "type": "integer"
        },
        {
         "name": "<= 0",
         "rawType": "float64",
         "type": "float"
        },
        {
         "name": "Lo 30",
         "rawType": "float64",
         "type": "float"
        },
        {
         "name": "Med 40",
         "rawType": "float64",
         "type": "float"
        },
        {
         "name": "Hi 30",
         "rawType": "float64",
         "type": "float"
        },
        {
         "name": "Lo 20",
         "rawType": "float64",
         "type": "float"
        },
        {
         "name": "Qnt 2",
         "rawType": "float64",
         "type": "float"
        },
        {
         "name": "Qnt 3",
         "rawType": "float64",
         "type": "float"
        },
        {
         "name": "Qnt 4",
         "rawType": "float64",
         "type": "float"
        },
        {
         "name": "Hi 20",
         "rawType": "float64",
         "type": "float"
        },
        {
         "name": "Lo 10",
         "rawType": "float64",
         "type": "float"
        },
        {
         "name": "Dec 2",
         "rawType": "float64",
         "type": "float"
        },
        {
         "name": "Dec 3",
         "rawType": "float64",
         "type": "float"
        },
        {
         "name": "Dec 4",
         "rawType": "float64",
         "type": "float"
        },
        {
         "name": "Dec 5",
         "rawType": "float64",
         "type": "float"
        },
        {
         "name": "Dec 6",
         "rawType": "float64",
         "type": "float"
        },
        {
         "name": "Dec 7",
         "rawType": "float64",
         "type": "float"
        },
        {
         "name": "Dec 8",
         "rawType": "float64",
         "type": "float"
        },
        {
         "name": "Dec 9",
         "rawType": "float64",
         "type": "float"
        },
        {
         "name": "Hi 10",
         "rawType": "float64",
         "type": "float"
        }
       ],
       "ref": "429a4cf2-3100-4d85-8f3a-a1a86888f086",
       "rows": [
        [
         "192607",
         null,
         "-0.43",
         "1.52",
         "2.68",
         "-0.57",
         "0.59",
         "1.6",
         "1.47",
         "3.33",
         "-1.45",
         "0.29",
         "-0.15",
         "1.33",
         "1.24",
         "1.98",
         "1.55",
         "1.38",
         "3.38",
         "3.29"
        ],
        [
         "192608",
         null,
         "3.9",
         "3.04",
         "2.09",
         "3.84",
         "3.59",
         "3.71",
         "1.61",
         "2.33",
         "5.12",
         "2.59",
         "4.03",
         "3.15",
         "2.72",
         "4.72",
         "1.6",
         "1.63",
         "0.98",
         "3.7"
        ],
        [
         "192609",
         null,
         "-1.08",
         "-0.54",
         "0.16",
         "-0.48",
         "-1.4",
         "0.0",
         "-0.5",
         "-0.09",
         "0.93",
         "-1.87",
         "-2.27",
         "-0.53",
         "0.07",
         "-0.07",
         "-1.64",
         "0.64",
         "-0.86",
         "0.67"
        ],
        [
         "192610",
         null,
         "-3.32",
         "-3.52",
         "-3.06",
         "-3.29",
         "-4.1",
         "-2.89",
         "-3.36",
         "-2.95",
         "-4.84",
         "-1.77",
         "-3.36",
         "-4.83",
         "-2.98",
         "-2.8",
         "-3.45",
         "-3.27",
         "-3.47",
         "-2.43"
        ],
        [
         "192611",
         null,
         "-0.46",
         "3.82",
         "3.09",
         "-0.55",
         "2.18",
         "3.41",
         "3.39",
         "3.16",
         "-0.78",
         "-0.32",
         "-0.29",
         "4.65",
         "3.24",
         "3.57",
         "3.82",
         "2.95",
         "3.61",
         "2.7"
        ]
       ],
       "shape": {
        "columns": 19,
        "rows": 5
       }
      },
      "text/html": [
       "<div>\n",
       "<style scoped>\n",
       "    .dataframe tbody tr th:only-of-type {\n",
       "        vertical-align: middle;\n",
       "    }\n",
       "\n",
       "    .dataframe tbody tr th {\n",
       "        vertical-align: top;\n",
       "    }\n",
       "\n",
       "    .dataframe thead th {\n",
       "        text-align: right;\n",
       "    }\n",
       "</style>\n",
       "<table border=\"1\" class=\"dataframe\">\n",
       "  <thead>\n",
       "    <tr style=\"text-align: right;\">\n",
       "      <th></th>\n",
       "      <th>&lt;= 0</th>\n",
       "      <th>Lo 30</th>\n",
       "      <th>Med 40</th>\n",
       "      <th>Hi 30</th>\n",
       "      <th>Lo 20</th>\n",
       "      <th>Qnt 2</th>\n",
       "      <th>Qnt 3</th>\n",
       "      <th>Qnt 4</th>\n",
       "      <th>Hi 20</th>\n",
       "      <th>Lo 10</th>\n",
       "      <th>Dec 2</th>\n",
       "      <th>Dec 3</th>\n",
       "      <th>Dec 4</th>\n",
       "      <th>Dec 5</th>\n",
       "      <th>Dec 6</th>\n",
       "      <th>Dec 7</th>\n",
       "      <th>Dec 8</th>\n",
       "      <th>Dec 9</th>\n",
       "      <th>Hi 10</th>\n",
       "    </tr>\n",
       "  </thead>\n",
       "  <tbody>\n",
       "    <tr>\n",
       "      <th>192607</th>\n",
       "      <td>NaN</td>\n",
       "      <td>-0.43</td>\n",
       "      <td>1.52</td>\n",
       "      <td>2.68</td>\n",
       "      <td>-0.57</td>\n",
       "      <td>0.59</td>\n",
       "      <td>1.60</td>\n",
       "      <td>1.47</td>\n",
       "      <td>3.33</td>\n",
       "      <td>-1.45</td>\n",
       "      <td>0.29</td>\n",
       "      <td>-0.15</td>\n",
       "      <td>1.33</td>\n",
       "      <td>1.24</td>\n",
       "      <td>1.98</td>\n",
       "      <td>1.55</td>\n",
       "      <td>1.38</td>\n",
       "      <td>3.38</td>\n",
       "      <td>3.29</td>\n",
       "    </tr>\n",
       "    <tr>\n",
       "      <th>192608</th>\n",
       "      <td>NaN</td>\n",
       "      <td>3.90</td>\n",
       "      <td>3.04</td>\n",
       "      <td>2.09</td>\n",
       "      <td>3.84</td>\n",
       "      <td>3.59</td>\n",
       "      <td>3.71</td>\n",
       "      <td>1.61</td>\n",
       "      <td>2.33</td>\n",
       "      <td>5.12</td>\n",
       "      <td>2.59</td>\n",
       "      <td>4.03</td>\n",
       "      <td>3.15</td>\n",
       "      <td>2.72</td>\n",
       "      <td>4.72</td>\n",
       "      <td>1.60</td>\n",
       "      <td>1.63</td>\n",
       "      <td>0.98</td>\n",
       "      <td>3.70</td>\n",
       "    </tr>\n",
       "    <tr>\n",
       "      <th>192609</th>\n",
       "      <td>NaN</td>\n",
       "      <td>-1.08</td>\n",
       "      <td>-0.54</td>\n",
       "      <td>0.16</td>\n",
       "      <td>-0.48</td>\n",
       "      <td>-1.40</td>\n",
       "      <td>0.00</td>\n",
       "      <td>-0.50</td>\n",
       "      <td>-0.09</td>\n",
       "      <td>0.93</td>\n",
       "      <td>-1.87</td>\n",
       "      <td>-2.27</td>\n",
       "      <td>-0.53</td>\n",
       "      <td>0.07</td>\n",
       "      <td>-0.07</td>\n",
       "      <td>-1.64</td>\n",
       "      <td>0.64</td>\n",
       "      <td>-0.86</td>\n",
       "      <td>0.67</td>\n",
       "    </tr>\n",
       "    <tr>\n",
       "      <th>192610</th>\n",
       "      <td>NaN</td>\n",
       "      <td>-3.32</td>\n",
       "      <td>-3.52</td>\n",
       "      <td>-3.06</td>\n",
       "      <td>-3.29</td>\n",
       "      <td>-4.10</td>\n",
       "      <td>-2.89</td>\n",
       "      <td>-3.36</td>\n",
       "      <td>-2.95</td>\n",
       "      <td>-4.84</td>\n",
       "      <td>-1.77</td>\n",
       "      <td>-3.36</td>\n",
       "      <td>-4.83</td>\n",
       "      <td>-2.98</td>\n",
       "      <td>-2.80</td>\n",
       "      <td>-3.45</td>\n",
       "      <td>-3.27</td>\n",
       "      <td>-3.47</td>\n",
       "      <td>-2.43</td>\n",
       "    </tr>\n",
       "    <tr>\n",
       "      <th>192611</th>\n",
       "      <td>NaN</td>\n",
       "      <td>-0.46</td>\n",
       "      <td>3.82</td>\n",
       "      <td>3.09</td>\n",
       "      <td>-0.55</td>\n",
       "      <td>2.18</td>\n",
       "      <td>3.41</td>\n",
       "      <td>3.39</td>\n",
       "      <td>3.16</td>\n",
       "      <td>-0.78</td>\n",
       "      <td>-0.32</td>\n",
       "      <td>-0.29</td>\n",
       "      <td>4.65</td>\n",
       "      <td>3.24</td>\n",
       "      <td>3.57</td>\n",
       "      <td>3.82</td>\n",
       "      <td>2.95</td>\n",
       "      <td>3.61</td>\n",
       "      <td>2.70</td>\n",
       "    </tr>\n",
       "  </tbody>\n",
       "</table>\n",
       "</div>"
      ],
      "text/plain": [
       "        <= 0  Lo 30  Med 40  Hi 30  Lo 20  Qnt 2  Qnt 3  Qnt 4  Hi 20  Lo 10  \\\n",
       "192607   NaN  -0.43    1.52   2.68  -0.57   0.59   1.60   1.47   3.33  -1.45   \n",
       "192608   NaN   3.90    3.04   2.09   3.84   3.59   3.71   1.61   2.33   5.12   \n",
       "192609   NaN  -1.08   -0.54   0.16  -0.48  -1.40   0.00  -0.50  -0.09   0.93   \n",
       "192610   NaN  -3.32   -3.52  -3.06  -3.29  -4.10  -2.89  -3.36  -2.95  -4.84   \n",
       "192611   NaN  -0.46    3.82   3.09  -0.55   2.18   3.41   3.39   3.16  -0.78   \n",
       "\n",
       "        Dec 2  Dec 3  Dec 4  Dec 5  Dec 6  Dec 7  Dec 8  Dec 9  Hi 10  \n",
       "192607   0.29  -0.15   1.33   1.24   1.98   1.55   1.38   3.38   3.29  \n",
       "192608   2.59   4.03   3.15   2.72   4.72   1.60   1.63   0.98   3.70  \n",
       "192609  -1.87  -2.27  -0.53   0.07  -0.07  -1.64   0.64  -0.86   0.67  \n",
       "192610  -1.77  -3.36  -4.83  -2.98  -2.80  -3.45  -3.27  -3.47  -2.43  \n",
       "192611  -0.32  -0.29   4.65   3.24   3.57   3.82   2.95   3.61   2.70  "
      ]
     },
     "execution_count": 35,
     "metadata": {},
     "output_type": "execute_result"
    }
   ],
   "source": [
    "returns.head()"
   ]
  },
  {
   "cell_type": "code",
   "execution_count": 36,
   "id": "0bcde869",
   "metadata": {},
   "outputs": [],
   "source": [
    "columns = [\"Lo 10\", \"Hi 10\"]\n",
    "returns = returns[columns]\n",
    "returns = round(returns/100,5)"
   ]
  },
  {
   "cell_type": "code",
   "execution_count": 37,
   "id": "f0d7978b",
   "metadata": {},
   "outputs": [
    {
     "data": {
      "application/vnd.microsoft.datawrangler.viewer.v0+json": {
       "columns": [
        {
         "name": "index",
         "rawType": "int64",
         "type": "integer"
        },
        {
         "name": "Small Cap",
         "rawType": "float64",
         "type": "float"
        },
        {
         "name": "Large Cap",
         "rawType": "float64",
         "type": "float"
        }
       ],
       "ref": "f0a652d3-1a9c-4a7e-8987-ce30cd120cac",
       "rows": [
        [
         "192607",
         "-0.0145",
         "0.0329"
        ],
        [
         "192608",
         "0.0512",
         "0.037"
        ],
        [
         "192609",
         "0.0093",
         "0.0067"
        ],
        [
         "192610",
         "-0.0484",
         "-0.0243"
        ],
        [
         "192611",
         "-0.0078",
         "0.027"
        ]
       ],
       "shape": {
        "columns": 2,
        "rows": 5
       }
      },
      "text/html": [
       "<div>\n",
       "<style scoped>\n",
       "    .dataframe tbody tr th:only-of-type {\n",
       "        vertical-align: middle;\n",
       "    }\n",
       "\n",
       "    .dataframe tbody tr th {\n",
       "        vertical-align: top;\n",
       "    }\n",
       "\n",
       "    .dataframe thead th {\n",
       "        text-align: right;\n",
       "    }\n",
       "</style>\n",
       "<table border=\"1\" class=\"dataframe\">\n",
       "  <thead>\n",
       "    <tr style=\"text-align: right;\">\n",
       "      <th></th>\n",
       "      <th>Small Cap</th>\n",
       "      <th>Large Cap</th>\n",
       "    </tr>\n",
       "  </thead>\n",
       "  <tbody>\n",
       "    <tr>\n",
       "      <th>192607</th>\n",
       "      <td>-0.0145</td>\n",
       "      <td>0.0329</td>\n",
       "    </tr>\n",
       "    <tr>\n",
       "      <th>192608</th>\n",
       "      <td>0.0512</td>\n",
       "      <td>0.0370</td>\n",
       "    </tr>\n",
       "    <tr>\n",
       "      <th>192609</th>\n",
       "      <td>0.0093</td>\n",
       "      <td>0.0067</td>\n",
       "    </tr>\n",
       "    <tr>\n",
       "      <th>192610</th>\n",
       "      <td>-0.0484</td>\n",
       "      <td>-0.0243</td>\n",
       "    </tr>\n",
       "    <tr>\n",
       "      <th>192611</th>\n",
       "      <td>-0.0078</td>\n",
       "      <td>0.0270</td>\n",
       "    </tr>\n",
       "  </tbody>\n",
       "</table>\n",
       "</div>"
      ],
      "text/plain": [
       "        Small Cap  Large Cap\n",
       "192607    -0.0145     0.0329\n",
       "192608     0.0512     0.0370\n",
       "192609     0.0093     0.0067\n",
       "192610    -0.0484    -0.0243\n",
       "192611    -0.0078     0.0270"
      ]
     },
     "execution_count": 37,
     "metadata": {},
     "output_type": "execute_result"
    }
   ],
   "source": [
    "returns.columns = [\"Small Cap\", \"Large Cap\"]\n",
    "returns.head()"
   ]
  },
  {
   "cell_type": "code",
   "execution_count": 38,
   "id": "3601033c",
   "metadata": {},
   "outputs": [
    {
     "data": {
      "text/plain": [
       "<Axes: >"
      ]
     },
     "execution_count": 38,
     "metadata": {},
     "output_type": "execute_result"
    },
    {
     "data": {
      "image/png": "[encoded data removed]",
      "text/plain": [
       "<Figure size 640x480 with 1 Axes>"
      ]
     },
     "metadata": {},
     "output_type": "display_data"
    }
   ],
   "source": [
    "returns.plot()"
   ]
  },
  {
   "cell_type": "code",
   "execution_count": 39,
   "id": "af5c628d",
   "metadata": {},
   "outputs": [
    {
     "data": {
      "application/vnd.microsoft.datawrangler.viewer.v0+json": {
       "columns": [
        {
         "name": "index",
         "rawType": "object",
         "type": "string"
        },
        {
         "name": "0",
         "rawType": "float64",
         "type": "float"
        }
       ],
       "ref": "a1304d20-5be5-4d90-ae85-ba72ba21b86f",
       "rows": [
        [
         "Small Cap",
         "0.10628817804909393"
        ],
        [
         "Large Cap",
         "0.05390026289280418"
        ]
       ],
       "shape": {
        "columns": 1,
        "rows": 2
       }
      },
      "text/plain": [
       "Small Cap    0.106288\n",
       "Large Cap    0.053900\n",
       "dtype: float64"
      ]
     },
     "execution_count": 39,
     "metadata": {},
     "output_type": "execute_result"
    }
   ],
   "source": [
    "returns.std()"
   ]
  },
  {
   "cell_type": "code",
   "execution_count": 40,
   "id": "06b3cbca",
   "metadata": {},
   "outputs": [
    {
     "data": {
      "application/vnd.microsoft.datawrangler.viewer.v0+json": {
       "columns": [
        {
         "name": "index",
         "rawType": "object",
         "type": "string"
        },
        {
         "name": "0",
         "rawType": "float64",
         "type": "float"
        }
       ],
       "ref": "d67bf0b8-8bef-41bc-893f-a2fd39be7e54",
       "rows": [
        [
         "Small Cap",
         "0.3681930492499155"
        ],
        [
         "Large Cap",
         "0.18671598774331255"
        ]
       ],
       "shape": {
        "columns": 1,
        "rows": 2
       }
      },
      "text/plain": [
       "Small Cap    0.368193\n",
       "Large Cap    0.186716\n",
       "dtype: float64"
      ]
     },
     "execution_count": 40,
     "metadata": {},
     "output_type": "execute_result"
    }
   ],
   "source": [
    "annualized_vol = returns.std()*np.sqrt(12)\n",
    "annualized_vol"
   ]
  },
  {
   "cell_type": "markdown",
   "id": "2f947922",
   "metadata": {},
   "source": [
    "  Calculate the monthly return"
   ]
  },
  {
   "cell_type": "code",
   "execution_count": 41,
   "id": "54ac80e6",
   "metadata": {},
   "outputs": [
    {
     "data": {
      "application/vnd.microsoft.datawrangler.viewer.v0+json": {
       "columns": [
        {
         "name": "index",
         "rawType": "object",
         "type": "string"
        },
        {
         "name": "0",
         "rawType": "float64",
         "type": "float"
        }
       ],
       "ref": "8ae12e5a-a0ac-4ab2-b2ff-a99cba140aba",
       "rows": [
        [
         "Small Cap",
         "0.012986371862751644"
        ],
        [
         "Large Cap",
         "0.007423423733719403"
        ]
       ],
       "shape": {
        "columns": 1,
        "rows": 2
       }
      },
      "text/plain": [
       "Small Cap    0.012986\n",
       "Large Cap    0.007423\n",
       "dtype: float64"
      ]
     },
     "execution_count": 41,
     "metadata": {},
     "output_type": "execute_result"
    }
   ],
   "source": [
    "#How many months\n",
    "n_months = returns.shape[0]\n",
    "\n",
    "return_month = (1+returns).prod()**(1/n_months)-1\n",
    "return_month"
   ]
  },
  {
   "cell_type": "code",
   "execution_count": 42,
   "id": "e882289b",
   "metadata": {},
   "outputs": [
    {
     "data": {
      "application/vnd.microsoft.datawrangler.viewer.v0+json": {
       "columns": [
        {
         "name": "index",
         "rawType": "object",
         "type": "string"
        },
        {
         "name": "0",
         "rawType": "float64",
         "type": "float"
        }
       ],
       "ref": "4438b93e-0f39-42d2-9f97-83bfd694737e",
       "rows": [
        [
         "Small Cap",
         "0.1674632857505609"
        ],
        [
         "Large Cap",
         "0.0928096810826724"
        ]
       ],
       "shape": {
        "columns": 1,
        "rows": 2
       }
      },
      "text/plain": [
       "Small Cap    0.167463\n",
       "Large Cap    0.092810\n",
       "dtype: float64"
      ]
     },
     "execution_count": 42,
     "metadata": {},
     "output_type": "execute_result"
    }
   ],
   "source": [
    "annualized_return = (1+return_month)**12 -1\n",
    "annualized_return"
   ]
  },
  {
   "cell_type": "markdown",
   "id": "fd163417",
   "metadata": {},
   "source": [
    "Another way of doing annualized return"
   ]
  },
  {
   "cell_type": "code",
   "execution_count": 43,
   "id": "e0b28cff",
   "metadata": {},
   "outputs": [
    {
     "data": {
      "application/vnd.microsoft.datawrangler.viewer.v0+json": {
       "columns": [
        {
         "name": "index",
         "rawType": "object",
         "type": "string"
        },
        {
         "name": "0",
         "rawType": "float64",
         "type": "float"
        }
       ],
       "ref": "36dede6c-dd08-4f8c-bb8c-90da12850402",
       "rows": [
        [
         "Small Cap",
         "0.16746328575056202"
        ],
        [
         "Large Cap",
         "0.09280968108267174"
        ]
       ],
       "shape": {
        "columns": 1,
        "rows": 2
       }
      },
      "text/plain": [
       "Small Cap    0.167463\n",
       "Large Cap    0.092810\n",
       "dtype: float64"
      ]
     },
     "execution_count": 43,
     "metadata": {},
     "output_type": "execute_result"
    }
   ],
   "source": [
    "annualized_return = (1+returns).prod()**(12/n_months)-1\n",
    "annualized_return"
   ]
  },
  {
   "cell_type": "markdown",
   "id": "7ab33606",
   "metadata": {},
   "source": [
    "Sharpe Risk ratio"
   ]
  },
  {
   "cell_type": "code",
   "execution_count": 44,
   "id": "db9c3cdc",
   "metadata": {},
   "outputs": [],
   "source": [
    "riskfree_rate = 0.03 #in practice, we need the time series"
   ]
  },
  {
   "cell_type": "code",
   "execution_count": 45,
   "id": "ce2e43ca",
   "metadata": {},
   "outputs": [
    {
     "data": {
      "application/vnd.microsoft.datawrangler.viewer.v0+json": {
       "columns": [
        {
         "name": "index",
         "rawType": "object",
         "type": "string"
        },
        {
         "name": "0",
         "rawType": "float64",
         "type": "float"
        }
       ],
       "ref": "f9443781-8c3c-4dde-9542-13ce48494c21",
       "rows": [
        [
         "Small Cap",
         "0.37334568382157896"
        ],
        [
         "Large Cap",
         "0.3363915529773445"
        ]
       ],
       "shape": {
        "columns": 1,
        "rows": 2
       }
      },
      "text/plain": [
       "Small Cap    0.373346\n",
       "Large Cap    0.336392\n",
       "dtype: float64"
      ]
     },
     "execution_count": 45,
     "metadata": {},
     "output_type": "execute_result"
    }
   ],
   "source": [
    "(annualized_return - riskfree_rate)/annualized_vol"
   ]
  },
  {
   "cell_type": "markdown",
   "id": "71214286",
   "metadata": {},
   "source": [
    "#### Lab3: Drawdowns"
   ]
  },
  {
   "cell_type": "markdown",
   "id": "c60b0e9b",
   "metadata": {},
   "source": [
    "##### Load and clean data"
   ]
  },
  {
   "cell_type": "code",
   "execution_count": 46,
   "id": "14171736",
   "metadata": {},
   "outputs": [
    {
     "name": "stderr",
     "output_type": "stream",
     "text": [
      "C:\\Users\\franc\\AppData\\Local\\Temp\\ipykernel_32408\\2858462060.py:1: UserWarning: Could not infer format, so each element will be parsed individually, falling back to `dateutil`. To ensure parsing is consistent and as-expected, please specify a format.\n",
      "  me_m = pd.read_csv(\"data/Portfolios_Formed_on_ME_monthly_EW.csv\",\n"
     ]
    },
    {
     "data": {
      "application/vnd.microsoft.datawrangler.viewer.v0+json": {
       "columns": [
        {
         "name": "index",
         "rawType": "int64",
         "type": "integer"
        },
        {
         "name": "Small Caps",
         "rawType": "float64",
         "type": "float"
        },
        {
         "name": "Large Caps",
         "rawType": "float64",
         "type": "float"
        }
       ],
       "ref": "041f7735-fd38-429e-ab72-bd77d966a224",
       "rows": [
        [
         "192607",
         "-0.0145",
         "0.0329"
        ],
        [
         "192608",
         "0.0512",
         "0.037"
        ],
        [
         "192609",
         "0.0093",
         "0.0067"
        ],
        [
         "192610",
         "-0.0484",
         "-0.0243"
        ],
        [
         "192611",
         "-0.0078",
         "0.027"
        ]
       ],
       "shape": {
        "columns": 2,
        "rows": 5
       }
      },
      "text/html": [
       "<div>\n",
       "<style scoped>\n",
       "    .dataframe tbody tr th:only-of-type {\n",
       "        vertical-align: middle;\n",
       "    }\n",
       "\n",
       "    .dataframe tbody tr th {\n",
       "        vertical-align: top;\n",
       "    }\n",
       "\n",
       "    .dataframe thead th {\n",
       "        text-align: right;\n",
       "    }\n",
       "</style>\n",
       "<table border=\"1\" class=\"dataframe\">\n",
       "  <thead>\n",
       "    <tr style=\"text-align: right;\">\n",
       "      <th></th>\n",
       "      <th>Small Caps</th>\n",
       "      <th>Large Caps</th>\n",
       "    </tr>\n",
       "  </thead>\n",
       "  <tbody>\n",
       "    <tr>\n",
       "      <th>192607</th>\n",
       "      <td>-0.0145</td>\n",
       "      <td>0.0329</td>\n",
       "    </tr>\n",
       "    <tr>\n",
       "      <th>192608</th>\n",
       "      <td>0.0512</td>\n",
       "      <td>0.0370</td>\n",
       "    </tr>\n",
       "    <tr>\n",
       "      <th>192609</th>\n",
       "      <td>0.0093</td>\n",
       "      <td>0.0067</td>\n",
       "    </tr>\n",
       "    <tr>\n",
       "      <th>192610</th>\n",
       "      <td>-0.0484</td>\n",
       "      <td>-0.0243</td>\n",
       "    </tr>\n",
       "    <tr>\n",
       "      <th>192611</th>\n",
       "      <td>-0.0078</td>\n",
       "      <td>0.0270</td>\n",
       "    </tr>\n",
       "  </tbody>\n",
       "</table>\n",
       "</div>"
      ],
      "text/plain": [
       "        Small Caps  Large Caps\n",
       "192607     -0.0145      0.0329\n",
       "192608      0.0512      0.0370\n",
       "192609      0.0093      0.0067\n",
       "192610     -0.0484     -0.0243\n",
       "192611     -0.0078      0.0270"
      ]
     },
     "execution_count": 46,
     "metadata": {},
     "output_type": "execute_result"
    }
   ],
   "source": [
    "me_m = pd.read_csv(\"data/Portfolios_Formed_on_ME_monthly_EW.csv\",\n",
    "                   index_col=0,header=0,parse_dates=True,na_values=-99.99 )\n",
    "\n",
    "rets = me_m[[\"Lo 10\", \"Hi 10\"]]\n",
    "rets.columns = [\"Small Caps\", \"Large Caps\"]\n",
    "rets=round(rets/100,5)\n",
    "\n",
    "rets.head()"
   ]
  },
  {
   "cell_type": "code",
   "execution_count": 47,
   "id": "8c0dabbd",
   "metadata": {},
   "outputs": [
    {
     "data": {
      "application/vnd.microsoft.datawrangler.viewer.v0+json": {
       "columns": [
        {
         "name": "index",
         "rawType": "datetime64[ns]",
         "type": "datetime"
        },
        {
         "name": "Small Caps",
         "rawType": "float64",
         "type": "float"
        },
        {
         "name": "Large Caps",
         "rawType": "float64",
         "type": "float"
        }
       ],
       "ref": "4855d178-ad4a-4f05-befc-40cc8b9b4b75",
       "rows": [
        [
         "1926-07-01 00:00:00",
         "-0.0145",
         "0.0329"
        ],
        [
         "1926-08-01 00:00:00",
         "0.0512",
         "0.037"
        ],
        [
         "1926-09-01 00:00:00",
         "0.0093",
         "0.0067"
        ],
        [
         "1926-10-01 00:00:00",
         "-0.0484",
         "-0.0243"
        ],
        [
         "1926-11-01 00:00:00",
         "-0.0078",
         "0.027"
        ]
       ],
       "shape": {
        "columns": 2,
        "rows": 5
       }
      },
      "text/html": [
       "<div>\n",
       "<style scoped>\n",
       "    .dataframe tbody tr th:only-of-type {\n",
       "        vertical-align: middle;\n",
       "    }\n",
       "\n",
       "    .dataframe tbody tr th {\n",
       "        vertical-align: top;\n",
       "    }\n",
       "\n",
       "    .dataframe thead th {\n",
       "        text-align: right;\n",
       "    }\n",
       "</style>\n",
       "<table border=\"1\" class=\"dataframe\">\n",
       "  <thead>\n",
       "    <tr style=\"text-align: right;\">\n",
       "      <th></th>\n",
       "      <th>Small Caps</th>\n",
       "      <th>Large Caps</th>\n",
       "    </tr>\n",
       "  </thead>\n",
       "  <tbody>\n",
       "    <tr>\n",
       "      <th>1926-07-01</th>\n",
       "      <td>-0.0145</td>\n",
       "      <td>0.0329</td>\n",
       "    </tr>\n",
       "    <tr>\n",
       "      <th>1926-08-01</th>\n",
       "      <td>0.0512</td>\n",
       "      <td>0.0370</td>\n",
       "    </tr>\n",
       "    <tr>\n",
       "      <th>1926-09-01</th>\n",
       "      <td>0.0093</td>\n",
       "      <td>0.0067</td>\n",
       "    </tr>\n",
       "    <tr>\n",
       "      <th>1926-10-01</th>\n",
       "      <td>-0.0484</td>\n",
       "      <td>-0.0243</td>\n",
       "    </tr>\n",
       "    <tr>\n",
       "      <th>1926-11-01</th>\n",
       "      <td>-0.0078</td>\n",
       "      <td>0.0270</td>\n",
       "    </tr>\n",
       "  </tbody>\n",
       "</table>\n",
       "</div>"
      ],
      "text/plain": [
       "            Small Caps  Large Caps\n",
       "1926-07-01     -0.0145      0.0329\n",
       "1926-08-01      0.0512      0.0370\n",
       "1926-09-01      0.0093      0.0067\n",
       "1926-10-01     -0.0484     -0.0243\n",
       "1926-11-01     -0.0078      0.0270"
      ]
     },
     "execution_count": 47,
     "metadata": {},
     "output_type": "execute_result"
    }
   ],
   "source": [
    "rets.index #notice dtype is int64\n",
    "rets.index = pd.to_datetime(rets.index, format=\"%Y%m\")\n",
    "rets.head()"
   ]
  },
  {
   "cell_type": "code",
   "execution_count": 48,
   "id": "bbcaac27",
   "metadata": {},
   "outputs": [
    {
     "data": {
      "application/vnd.microsoft.datawrangler.viewer.v0+json": {
       "columns": [
        {
         "name": "index",
         "rawType": "period[M]",
         "type": "unknown"
        },
        {
         "name": "Small Caps",
         "rawType": "float64",
         "type": "float"
        },
        {
         "name": "Large Caps",
         "rawType": "float64",
         "type": "float"
        }
       ],
       "ref": "beae98d2-4ea4-486c-a430-8870ea0f1e9d",
       "rows": [
        [
         "1926-07",
         "-0.0145",
         "0.0329"
        ],
        [
         "1926-08",
         "0.0512",
         "0.037"
        ],
        [
         "1926-09",
         "0.0093",
         "0.0067"
        ],
        [
         "1926-10",
         "-0.0484",
         "-0.0243"
        ],
        [
         "1926-11",
         "-0.0078",
         "0.027"
        ]
       ],
       "shape": {
        "columns": 2,
        "rows": 5
       }
      },
      "text/html": [
       "<div>\n",
       "<style scoped>\n",
       "    .dataframe tbody tr th:only-of-type {\n",
       "        vertical-align: middle;\n",
       "    }\n",
       "\n",
       "    .dataframe tbody tr th {\n",
       "        vertical-align: top;\n",
       "    }\n",
       "\n",
       "    .dataframe thead th {\n",
       "        text-align: right;\n",
       "    }\n",
       "</style>\n",
       "<table border=\"1\" class=\"dataframe\">\n",
       "  <thead>\n",
       "    <tr style=\"text-align: right;\">\n",
       "      <th></th>\n",
       "      <th>Small Caps</th>\n",
       "      <th>Large Caps</th>\n",
       "    </tr>\n",
       "  </thead>\n",
       "  <tbody>\n",
       "    <tr>\n",
       "      <th>1926-07</th>\n",
       "      <td>-0.0145</td>\n",
       "      <td>0.0329</td>\n",
       "    </tr>\n",
       "    <tr>\n",
       "      <th>1926-08</th>\n",
       "      <td>0.0512</td>\n",
       "      <td>0.0370</td>\n",
       "    </tr>\n",
       "    <tr>\n",
       "      <th>1926-09</th>\n",
       "      <td>0.0093</td>\n",
       "      <td>0.0067</td>\n",
       "    </tr>\n",
       "    <tr>\n",
       "      <th>1926-10</th>\n",
       "      <td>-0.0484</td>\n",
       "      <td>-0.0243</td>\n",
       "    </tr>\n",
       "    <tr>\n",
       "      <th>1926-11</th>\n",
       "      <td>-0.0078</td>\n",
       "      <td>0.0270</td>\n",
       "    </tr>\n",
       "  </tbody>\n",
       "</table>\n",
       "</div>"
      ],
      "text/plain": [
       "         Small Caps  Large Caps\n",
       "1926-07     -0.0145      0.0329\n",
       "1926-08      0.0512      0.0370\n",
       "1926-09      0.0093      0.0067\n",
       "1926-10     -0.0484     -0.0243\n",
       "1926-11     -0.0078      0.0270"
      ]
     },
     "execution_count": 48,
     "metadata": {},
     "output_type": "execute_result"
    }
   ],
   "source": [
    "#However, dates say the day too, not the full month. We need to convert.\n",
    "rets.index =rets.index.to_period(\"M\")\n",
    "rets.head()\n",
    "\n"
   ]
  },
  {
   "cell_type": "code",
   "execution_count": 49,
   "id": "427d499c",
   "metadata": {},
   "outputs": [
    {
     "name": "stdout",
     "output_type": "stream",
     "text": [
      "<class 'pandas.core.frame.DataFrame'>\n",
      "PeriodIndex: 1110 entries, 1926-07 to 2018-12\n",
      "Freq: M\n",
      "Data columns (total 2 columns):\n",
      " #   Column      Non-Null Count  Dtype  \n",
      "---  ------      --------------  -----  \n",
      " 0   Small Caps  1110 non-null   float64\n",
      " 1   Large Caps  1110 non-null   float64\n",
      "dtypes: float64(2)\n",
      "memory usage: 58.3 KB\n"
     ]
    }
   ],
   "source": [
    "rets['1975-01':'1975-12']\n",
    "type(rets)\n",
    "rets.info()"
   ]
  },
  {
   "cell_type": "code",
   "execution_count": 50,
   "id": "822ba868",
   "metadata": {},
   "outputs": [
    {
     "data": {
      "text/plain": [
       "<Axes: >"
      ]
     },
     "execution_count": 50,
     "metadata": {},
     "output_type": "execute_result"
    },
    {
     "data": {
      "image/png": "[encoded data removed]",
      "text/plain": [
       "<Figure size 640x480 with 1 Axes>"
      ]
     },
     "metadata": {},
     "output_type": "display_data"
    }
   ],
   "source": [
    "rets.plot()"
   ]
  },
  {
   "cell_type": "markdown",
   "id": "492c3fe9",
   "metadata": {},
   "source": [
    "##### Compute Wealth Index"
   ]
  },
  {
   "cell_type": "code",
   "execution_count": 51,
   "id": "2a78b277",
   "metadata": {},
   "outputs": [
    {
     "data": {
      "application/vnd.microsoft.datawrangler.viewer.v0+json": {
       "columns": [
        {
         "name": "index",
         "rawType": "period[M]",
         "type": "unknown"
        },
        {
         "name": "Large Caps",
         "rawType": "float64",
         "type": "float"
        }
       ],
       "ref": "efc40047-60e8-4305-8d80-3459602f8e54",
       "rows": [
        [
         "1926-07",
         "1032.8999999999999"
        ],
        [
         "1926-08",
         "1071.1173"
        ],
        [
         "1926-09",
         "1078.2937859099998"
        ],
        [
         "1926-10",
         "1052.0912469123866"
        ],
        [
         "1926-11",
         "1080.497710579021"
        ],
        [
         "1926-12",
         "1113.0206916674497"
        ],
        [
         "1927-01",
         "1108.2347026932798"
        ],
        [
         "1927-02",
         "1148.6852693415842"
        ],
        [
         "1927-03",
         "1158.4490941309878"
        ],
        [
         "1927-04",
         "1168.8751359781666"
        ],
        [
         "1927-05",
         "1230.2410806170203"
        ],
        [
         "1927-06",
         "1203.9139214918162"
        ],
        [
         "1927-07",
         "1298.4211643289239"
        ],
        [
         "1927-08",
         "1320.6241662389484"
        ],
        [
         "1927-09",
         "1391.145496716108"
        ],
        [
         "1927-10",
         "1338.8384260395824"
        ],
        [
         "1927-11",
         "1426.6662267877791"
        ],
        [
         "1927-12",
         "1437.08089024333"
        ],
        [
         "1928-01",
         "1420.4107519165075"
        ],
        [
         "1928-02",
         "1403.081740743126"
        ],
        [
         "1928-03",
         "1498.3509909395843"
        ],
        [
         "1928-04",
         "1552.1417915143154"
        ],
        [
         "1928-05",
         "1565.6454251004898"
        ],
        [
         "1928-06",
         "1500.8277045013297"
        ],
        [
         "1928-07",
         "1518.3873886439953"
        ],
        [
         "1928-08",
         "1634.544023875261"
        ],
        [
         "1928-09",
         "1672.7923540339425"
        ],
        [
         "1928-10",
         "1704.073571054377"
        ],
        [
         "1928-11",
         "1953.2091271425268"
        ],
        [
         "1928-12",
         "1962.3892100400963"
        ],
        [
         "1929-01",
         "2059.134998095073"
        ],
        [
         "1929-02",
         "2056.0462955979306"
        ],
        [
         "1929-03",
         "2062.625643743844"
        ],
        [
         "1929-04",
         "2098.1028048162384"
        ],
        [
         "1929-05",
         "2026.1378786110415"
        ],
        [
         "1929-06",
         "2209.7059704132016"
        ],
        [
         "1929-07",
         "2310.247592067003"
        ],
        [
         "1929-08",
         "2536.6518560895693"
        ],
        [
         "1929-09",
         "2407.7899418002194"
        ],
        [
         "1929-10",
         "1980.4072271306804"
        ],
        [
         "1929-11",
         "1743.9466042112774"
        ],
        [
         "1929-12",
         "1782.662218824768"
        ],
        [
         "1930-01",
         "1855.0383049090533"
        ],
        [
         "1930-02",
         "1911.060461717307"
        ],
        [
         "1930-03",
         "2023.813028958628"
        ],
        [
         "1930-04",
         "2009.8487190588132"
        ],
        [
         "1930-05",
         "1994.1718990501545"
        ],
        [
         "1930-06",
         "1695.8437829522516"
        ],
        [
         "1930-07",
         "1762.4904436222748"
        ],
        [
         "1930-08",
         "1765.8391754651573"
        ]
       ],
       "shape": {
        "columns": 1,
        "rows": 1110
       }
      },
      "text/plain": [
       "1926-07    1.032900e+03\n",
       "1926-08    1.071117e+03\n",
       "1926-09    1.078294e+03\n",
       "1926-10    1.052091e+03\n",
       "1926-11    1.080498e+03\n",
       "               ...     \n",
       "2018-08    4.175915e+06\n",
       "2018-09    4.212246e+06\n",
       "2018-10    3.935501e+06\n",
       "2018-11    4.035069e+06\n",
       "2018-12    3.675948e+06\n",
       "Freq: M, Name: Large Caps, Length: 1110, dtype: float64"
      ]
     },
     "execution_count": 51,
     "metadata": {},
     "output_type": "execute_result"
    }
   ],
   "source": [
    "#let's say initial investment is 1000 dollars. And see growth of 1 dollar over time\n",
    "wealth_index = 1000*(1+rets[\"Large Caps\"]).cumprod() #cumulative product\n",
    "wealth_index"
   ]
  },
  {
   "cell_type": "code",
   "execution_count": 52,
   "id": "615013b3",
   "metadata": {},
   "outputs": [
    {
     "data": {
      "text/plain": [
       "<Axes: >"
      ]
     },
     "execution_count": 52,
     "metadata": {},
     "output_type": "execute_result"
    },
    {
     "data": {
      "image/png": "[encoded data removed]",
      "text/plain": [
       "<Figure size 640x480 with 1 Axes>"
      ]
     },
     "metadata": {},
     "output_type": "display_data"
    }
   ],
   "source": [
    "wealth_index.plot()"
   ]
  },
  {
   "cell_type": "markdown",
   "id": "3fe039bc",
   "metadata": {},
   "source": [
    "##### Compute Previous Peaks"
   ]
  },
  {
   "cell_type": "code",
   "execution_count": 53,
   "id": "ed024093",
   "metadata": {},
   "outputs": [
    {
     "data": {
      "text/plain": [
       "<Axes: >"
      ]
     },
     "execution_count": 53,
     "metadata": {},
     "output_type": "execute_result"
    },
    {
     "data": {
      "image/png": "[encoded data removed]",
      "text/plain": [
       "<Figure size 640x480 with 1 Axes>"
      ]
     },
     "metadata": {},
     "output_type": "display_data"
    }
   ],
   "source": [
    "previous_peaks = wealth_index.cummax()\n",
    "previous_peaks.plot()"
   ]
  },
  {
   "cell_type": "markdown",
   "id": "d6b3a9d8",
   "metadata": {},
   "source": [
    "##### Compute Drawdown"
   ]
  },
  {
   "cell_type": "code",
   "execution_count": 54,
   "id": "1b2cb460",
   "metadata": {},
   "outputs": [
    {
     "data": {
      "text/plain": [
       "<Axes: >"
      ]
     },
     "execution_count": 54,
     "metadata": {},
     "output_type": "execute_result"
    },
    {
     "data": {
      "image/png": "[encoded data removed]",
      "text/plain": [
       "<Figure size 640x480 with 1 Axes>"
      ]
     },
     "metadata": {},
     "output_type": "display_data"
    }
   ],
   "source": [
    "drawdown = (wealth_index - previous_peaks)/previous_peaks\n",
    "drawdown.plot()"
   ]
  },
  {
   "cell_type": "markdown",
   "id": "35f7bab7",
   "metadata": {},
   "source": [
    "In the previous plot we can see in 1929 people lost almost 80%."
   ]
  },
  {
   "cell_type": "code",
   "execution_count": 55,
   "id": "2e6b0384",
   "metadata": {},
   "outputs": [
    {
     "data": {
      "text/plain": [
       "-0.8400375277943124"
      ]
     },
     "execution_count": 55,
     "metadata": {},
     "output_type": "execute_result"
    }
   ],
   "source": [
    "drawdown.min()"
   ]
  },
  {
   "cell_type": "code",
   "execution_count": 56,
   "id": "cf80401a",
   "metadata": {},
   "outputs": [
    {
     "data": {
      "text/plain": [
       "Period('2009-02', 'M')"
      ]
     },
     "execution_count": 56,
     "metadata": {},
     "output_type": "execute_result"
    }
   ],
   "source": [
    "drawdown[\"1975\":].idxmin() #get the index of the minimum since 1975"
   ]
  },
  {
   "cell_type": "markdown",
   "id": "573f3d83",
   "metadata": {},
   "source": [
    "##### Custom function to calculate"
   ]
  },
  {
   "cell_type": "code",
   "execution_count": 57,
   "id": "d30d2a4a",
   "metadata": {},
   "outputs": [],
   "source": [
    "def drawdown(return_series: pd.Series): #inputs. :pd.Series expresses the type\n",
    "  \"\"\"\n",
    "  Takes a time series of returns\n",
    "  Computes and returns a DataFrame that contains:\n",
    "  wealth index\n",
    "  previous peaks\n",
    "  percent drawdowns\n",
    "  \"\"\"\n",
    "\n",
    "  wealth_index = 1000*(1+return_series).cumprod()\n",
    "  previous_peaks = wealth_index.cummax()\n",
    "  drawdowns = (wealth_index-previous_peaks)/previous_peaks\n",
    "\n",
    "  return pd.DataFrame({\n",
    "    \"Wealth\": wealth_index,\n",
    "    \"previous_peaks\": previous_peaks,\n",
    "    \"drawdowns\": drawdowns\n",
    "  })\n",
    "\n"
   ]
  },
  {
   "cell_type": "code",
   "execution_count": 58,
   "id": "92c53efa",
   "metadata": {},
   "outputs": [
    {
     "data": {
      "application/vnd.microsoft.datawrangler.viewer.v0+json": {
       "columns": [
        {
         "name": "index",
         "rawType": "period[M]",
         "type": "unknown"
        },
        {
         "name": "Wealth",
         "rawType": "float64",
         "type": "float"
        },
        {
         "name": "previous_peaks",
         "rawType": "float64",
         "type": "float"
        },
        {
         "name": "drawdowns",
         "rawType": "float64",
         "type": "float"
        }
       ],
       "ref": "9ecb20c5-6e96-4a37-ba96-9b11c13a9373",
       "rows": [
        [
         "1926-07",
         "1032.8999999999999",
         "1032.8999999999999",
         "0.0"
        ],
        [
         "1926-08",
         "1071.1173",
         "1071.1173",
         "0.0"
        ],
        [
         "1926-09",
         "1078.2937859099998",
         "1078.2937859099998",
         "0.0"
        ],
        [
         "1926-10",
         "1052.0912469123866",
         "1078.2937859099998",
         "-0.02430000000000014"
        ],
        [
         "1926-11",
         "1080.497710579021",
         "1080.497710579021",
         "0.0"
        ]
       ],
       "shape": {
        "columns": 3,
        "rows": 5
       }
      },
      "text/html": [
       "<div>\n",
       "<style scoped>\n",
       "    .dataframe tbody tr th:only-of-type {\n",
       "        vertical-align: middle;\n",
       "    }\n",
       "\n",
       "    .dataframe tbody tr th {\n",
       "        vertical-align: top;\n",
       "    }\n",
       "\n",
       "    .dataframe thead th {\n",
       "        text-align: right;\n",
       "    }\n",
       "</style>\n",
       "<table border=\"1\" class=\"dataframe\">\n",
       "  <thead>\n",
       "    <tr style=\"text-align: right;\">\n",
       "      <th></th>\n",
       "      <th>Wealth</th>\n",
       "      <th>previous_peaks</th>\n",
       "      <th>drawdowns</th>\n",
       "    </tr>\n",
       "  </thead>\n",
       "  <tbody>\n",
       "    <tr>\n",
       "      <th>1926-07</th>\n",
       "      <td>1032.900000</td>\n",
       "      <td>1032.900000</td>\n",
       "      <td>0.0000</td>\n",
       "    </tr>\n",
       "    <tr>\n",
       "      <th>1926-08</th>\n",
       "      <td>1071.117300</td>\n",
       "      <td>1071.117300</td>\n",
       "      <td>0.0000</td>\n",
       "    </tr>\n",
       "    <tr>\n",
       "      <th>1926-09</th>\n",
       "      <td>1078.293786</td>\n",
       "      <td>1078.293786</td>\n",
       "      <td>0.0000</td>\n",
       "    </tr>\n",
       "    <tr>\n",
       "      <th>1926-10</th>\n",
       "      <td>1052.091247</td>\n",
       "      <td>1078.293786</td>\n",
       "      <td>-0.0243</td>\n",
       "    </tr>\n",
       "    <tr>\n",
       "      <th>1926-11</th>\n",
       "      <td>1080.497711</td>\n",
       "      <td>1080.497711</td>\n",
       "      <td>0.0000</td>\n",
       "    </tr>\n",
       "  </tbody>\n",
       "</table>\n",
       "</div>"
      ],
      "text/plain": [
       "              Wealth  previous_peaks  drawdowns\n",
       "1926-07  1032.900000     1032.900000     0.0000\n",
       "1926-08  1071.117300     1071.117300     0.0000\n",
       "1926-09  1078.293786     1078.293786     0.0000\n",
       "1926-10  1052.091247     1078.293786    -0.0243\n",
       "1926-11  1080.497711     1080.497711     0.0000"
      ]
     },
     "execution_count": 58,
     "metadata": {},
     "output_type": "execute_result"
    }
   ],
   "source": [
    "drawdown(rets[\"Large Caps\"]).head()"
   ]
  },
  {
   "cell_type": "code",
   "execution_count": 59,
   "id": "377b5b0d",
   "metadata": {},
   "outputs": [
    {
     "data": {
      "text/plain": [
       "<Axes: >"
      ]
     },
     "execution_count": 59,
     "metadata": {},
     "output_type": "execute_result"
    },
    {
     "data": {
      "image/png": "[encoded data removed]",
      "text/plain": [
       "<Figure size 640x480 with 1 Axes>"
      ]
     },
     "metadata": {},
     "output_type": "display_data"
    }
   ],
   "source": [
    "drawdown(rets[\"Large Caps\"])[[\"Wealth\",\"previous_peaks\"]].plot()"
   ]
  },
  {
   "cell_type": "code",
   "execution_count": 60,
   "id": "f853dcae",
   "metadata": {},
   "outputs": [
    {
     "data": {
      "text/plain": [
       "<Axes: >"
      ]
     },
     "execution_count": 60,
     "metadata": {},
     "output_type": "execute_result"
    },
    {
     "data": {
      "image/png": "[encoded data removed]",
      "text/plain": [
       "<Figure size 640x480 with 1 Axes>"
      ]
     },
     "metadata": {},
     "output_type": "display_data"
    }
   ],
   "source": [
    "drawdown(rets[:\"1950\"][\"Large Caps\"])[[\"Wealth\",\"previous_peaks\"]].plot()"
   ]
  },
  {
   "cell_type": "code",
   "execution_count": 61,
   "id": "67278b12",
   "metadata": {},
   "outputs": [
    {
     "name": "stdout",
     "output_type": "stream",
     "text": [
      "-0.8400375277943124\n",
      "1932-05\n",
      "-0.8330007793945303\n",
      "1932-05\n"
     ]
    }
   ],
   "source": [
    "#just checking the drawdawns\n",
    "print(drawdown(rets[\"Large Caps\"])[\"drawdowns\"].min())\n",
    "print(drawdown(rets[\"Large Caps\"])[\"drawdowns\"].idxmin())\n",
    "print(drawdown(rets[\"Small Caps\"])[\"drawdowns\"].min())\n",
    "print(drawdown(rets[\"Small Caps\"])[\"drawdowns\"].idxmin())"
   ]
  },
  {
   "cell_type": "code",
   "execution_count": 62,
   "id": "0e14d235",
   "metadata": {},
   "outputs": [
    {
     "name": "stdout",
     "output_type": "stream",
     "text": [
      "-0.5280945042309303\n",
      "2009-02\n",
      "-0.6312068077252387\n",
      "2009-02\n"
     ]
    }
   ],
   "source": [
    "print(drawdown(rets[\"1975\":][\"Large Caps\"])[\"drawdowns\"].min())\n",
    "print(drawdown(rets[\"1975\":][\"Large Caps\"])[\"drawdowns\"].idxmin())\n",
    "print(drawdown(rets[\"1975\":][\"Small Caps\"])[\"drawdowns\"].min())\n",
    "print(drawdown(rets[\"1975\":][\"Small Caps\"])[\"drawdowns\"].idxmin())"
   ]
  },
  {
   "cell_type": "markdown",
   "id": "c338588e",
   "metadata": {},
   "source": [
    "#### Lab4:Building Modules"
   ]
  },
  {
   "cell_type": "code",
   "execution_count": 63,
   "id": "83e0e04c",
   "metadata": {},
   "outputs": [
    {
     "data": {
      "text/plain": [
       "'Hello Vic'"
      ]
     },
     "execution_count": 63,
     "metadata": {},
     "output_type": "execute_result"
    }
   ],
   "source": [
    "import hello as h\n",
    "h.message #sample of how functions from libraries work. See hello.py"
   ]
  },
  {
   "cell_type": "markdown",
   "id": "e5329c7a",
   "metadata": {},
   "source": [
    "libraries are not loaded everytime we use import. To do so, we need to use a magic command %"
   ]
  },
  {
   "cell_type": "code",
   "execution_count": 64,
   "id": "718f93cf",
   "metadata": {},
   "outputs": [],
   "source": [
    "%load_ext autoreload"
   ]
  },
  {
   "cell_type": "code",
   "execution_count": 65,
   "id": "fff9098a",
   "metadata": {},
   "outputs": [],
   "source": [
    "%autoreload 2"
   ]
  },
  {
   "cell_type": "code",
   "execution_count": 66,
   "id": "5261ba37",
   "metadata": {},
   "outputs": [
    {
     "data": {
      "text/plain": [
       "'Hello Vic'"
      ]
     },
     "execution_count": 66,
     "metadata": {},
     "output_type": "execute_result"
    }
   ],
   "source": [
    "h.message"
   ]
  },
  {
   "cell_type": "code",
   "execution_count": 67,
   "id": "1446924a",
   "metadata": {},
   "outputs": [],
   "source": [
    "import edhec_risk_kit as erk"
   ]
  },
  {
   "cell_type": "code",
   "execution_count": 68,
   "id": "4d000522",
   "metadata": {},
   "outputs": [
    {
     "data": {
      "text/plain": [
       "np.float64(473249.48843263707)"
      ]
     },
     "execution_count": 68,
     "metadata": {},
     "output_type": "execute_result"
    }
   ],
   "source": [
    "drawdowns = erk.drawdown(rets[\"Large Caps\"])\n",
    "drawdowns[\"Wealth\"].mean()"
   ]
  },
  {
   "cell_type": "markdown",
   "id": "51b3d722",
   "metadata": {},
   "source": [
    "#### Lab5: Deviations from normality"
   ]
  },
  {
   "cell_type": "markdown",
   "id": "47d93924",
   "metadata": {},
   "source": [
    "Code to measure skewness and kurtosis of different indeces"
   ]
  },
  {
   "cell_type": "code",
   "execution_count": 69,
   "id": "0694194d",
   "metadata": {},
   "outputs": [
    {
     "name": "stderr",
     "output_type": "stream",
     "text": [
      "c:\\Users\\franc\\OneDrive - Delft University of Technology\\Documents\\Python\\portfolio_analyst\\edhec_risk_kit.py:40: UserWarning: Parsing dates in %d/%m/%Y format when dayfirst=False (the default) was specified. Pass `dayfirst=True` or specify a format to silence this warning.\n",
      "  hfi = pd.read_csv(\"data/edhec-hedgefundindices.csv\",\n"
     ]
    }
   ],
   "source": [
    "hfi = erk.get_hfi_returns()"
   ]
  },
  {
   "cell_type": "code",
   "execution_count": 70,
   "id": "ec4c76f2",
   "metadata": {},
   "outputs": [
    {
     "data": {
      "application/vnd.microsoft.datawrangler.viewer.v0+json": {
       "columns": [
        {
         "name": "date",
         "rawType": "period[M]",
         "type": "unknown"
        },
        {
         "name": "Convertible Arbitrage",
         "rawType": "float64",
         "type": "float"
        },
        {
         "name": "CTA Global",
         "rawType": "float64",
         "type": "float"
        },
        {
         "name": "Distressed Securities",
         "rawType": "float64",
         "type": "float"
        },
        {
         "name": "Emerging Markets",
         "rawType": "float64",
         "type": "float"
        },
        {
         "name": "Equity Market Neutral",
         "rawType": "float64",
         "type": "float"
        },
        {
         "name": "Event Driven",
         "rawType": "float64",
         "type": "float"
        },
        {
         "name": "Fixed Income Arbitrage",
         "rawType": "float64",
         "type": "float"
        },
        {
         "name": "Global Macro",
         "rawType": "float64",
         "type": "float"
        },
        {
         "name": "Long/Short Equity",
         "rawType": "float64",
         "type": "float"
        },
        {
         "name": "Merger Arbitrage",
         "rawType": "float64",
         "type": "float"
        },
        {
         "name": "Relative Value",
         "rawType": "float64",
         "type": "float"
        },
        {
         "name": "Short Selling",
         "rawType": "float64",
         "type": "float"
        },
        {
         "name": "Funds Of Funds",
         "rawType": "float64",
         "type": "float"
        }
       ],
       "ref": "8ed691b2-ce88-4221-9dba-9ef1e70b3e87",
       "rows": [
        [
         "1997-01",
         "0.011899999999999999",
         "0.0393",
         "0.0178",
         "0.0791",
         "0.0189",
         "0.0213",
         "0.0191",
         "0.057300000000000004",
         "0.0281",
         "0.015",
         "0.018000000000000002",
         "-0.0166",
         "0.0317"
        ],
        [
         "1997-02",
         "0.0123",
         "0.0298",
         "0.012199999999999999",
         "0.0525",
         "0.0101",
         "0.0084",
         "0.012199999999999999",
         "0.0175",
         "-0.0006",
         "0.0034000000000000002",
         "0.0118",
         "0.0426",
         "0.0106"
        ],
        [
         "1997-03",
         "0.0078000000000000005",
         "-0.0021",
         "-0.0012",
         "-0.012",
         "0.0016",
         "-0.0023",
         "0.0109",
         "-0.011899999999999999",
         "-0.0084",
         "0.006",
         "0.001",
         "0.07780000000000001",
         "-0.0077"
        ],
        [
         "1997-04",
         "0.0086",
         "-0.017",
         "0.003",
         "0.011899999999999999",
         "0.011899999999999999",
         "-0.0005",
         "0.013000000000000001",
         "0.0172",
         "0.0084",
         "-0.0001",
         "0.012199999999999999",
         "-0.0129",
         "0.0009"
        ],
        [
         "1997-05",
         "0.015600000000000001",
         "-0.0015",
         "0.0233",
         "0.0315",
         "0.0189",
         "0.0346",
         "0.0118",
         "0.0108",
         "0.0394",
         "0.0197",
         "0.0173",
         "-0.0737",
         "0.0275"
        ]
       ],
       "shape": {
        "columns": 13,
        "rows": 5
       }
      },
      "text/html": [
       "<div>\n",
       "<style scoped>\n",
       "    .dataframe tbody tr th:only-of-type {\n",
       "        vertical-align: middle;\n",
       "    }\n",
       "\n",
       "    .dataframe tbody tr th {\n",
       "        vertical-align: top;\n",
       "    }\n",
       "\n",
       "    .dataframe thead th {\n",
       "        text-align: right;\n",
       "    }\n",
       "</style>\n",
       "<table border=\"1\" class=\"dataframe\">\n",
       "  <thead>\n",
       "    <tr style=\"text-align: right;\">\n",
       "      <th></th>\n",
       "      <th>Convertible Arbitrage</th>\n",
       "      <th>CTA Global</th>\n",
       "      <th>Distressed Securities</th>\n",
       "      <th>Emerging Markets</th>\n",
       "      <th>Equity Market Neutral</th>\n",
       "      <th>Event Driven</th>\n",
       "      <th>Fixed Income Arbitrage</th>\n",
       "      <th>Global Macro</th>\n",
       "      <th>Long/Short Equity</th>\n",
       "      <th>Merger Arbitrage</th>\n",
       "      <th>Relative Value</th>\n",
       "      <th>Short Selling</th>\n",
       "      <th>Funds Of Funds</th>\n",
       "    </tr>\n",
       "    <tr>\n",
       "      <th>date</th>\n",
       "      <th></th>\n",
       "      <th></th>\n",
       "      <th></th>\n",
       "      <th></th>\n",
       "      <th></th>\n",
       "      <th></th>\n",
       "      <th></th>\n",
       "      <th></th>\n",
       "      <th></th>\n",
       "      <th></th>\n",
       "      <th></th>\n",
       "      <th></th>\n",
       "      <th></th>\n",
       "    </tr>\n",
       "  </thead>\n",
       "  <tbody>\n",
       "    <tr>\n",
       "      <th>1997-01</th>\n",
       "      <td>0.0119</td>\n",
       "      <td>0.0393</td>\n",
       "      <td>0.0178</td>\n",
       "      <td>0.0791</td>\n",
       "      <td>0.0189</td>\n",
       "      <td>0.0213</td>\n",
       "      <td>0.0191</td>\n",
       "      <td>0.0573</td>\n",
       "      <td>0.0281</td>\n",
       "      <td>0.0150</td>\n",
       "      <td>0.0180</td>\n",
       "      <td>-0.0166</td>\n",
       "      <td>0.0317</td>\n",
       "    </tr>\n",
       "    <tr>\n",
       "      <th>1997-02</th>\n",
       "      <td>0.0123</td>\n",
       "      <td>0.0298</td>\n",
       "      <td>0.0122</td>\n",
       "      <td>0.0525</td>\n",
       "      <td>0.0101</td>\n",
       "      <td>0.0084</td>\n",
       "      <td>0.0122</td>\n",
       "      <td>0.0175</td>\n",
       "      <td>-0.0006</td>\n",
       "      <td>0.0034</td>\n",
       "      <td>0.0118</td>\n",
       "      <td>0.0426</td>\n",
       "      <td>0.0106</td>\n",
       "    </tr>\n",
       "    <tr>\n",
       "      <th>1997-03</th>\n",
       "      <td>0.0078</td>\n",
       "      <td>-0.0021</td>\n",
       "      <td>-0.0012</td>\n",
       "      <td>-0.0120</td>\n",
       "      <td>0.0016</td>\n",
       "      <td>-0.0023</td>\n",
       "      <td>0.0109</td>\n",
       "      <td>-0.0119</td>\n",
       "      <td>-0.0084</td>\n",
       "      <td>0.0060</td>\n",
       "      <td>0.0010</td>\n",
       "      <td>0.0778</td>\n",
       "      <td>-0.0077</td>\n",
       "    </tr>\n",
       "    <tr>\n",
       "      <th>1997-04</th>\n",
       "      <td>0.0086</td>\n",
       "      <td>-0.0170</td>\n",
       "      <td>0.0030</td>\n",
       "      <td>0.0119</td>\n",
       "      <td>0.0119</td>\n",
       "      <td>-0.0005</td>\n",
       "      <td>0.0130</td>\n",
       "      <td>0.0172</td>\n",
       "      <td>0.0084</td>\n",
       "      <td>-0.0001</td>\n",
       "      <td>0.0122</td>\n",
       "      <td>-0.0129</td>\n",
       "      <td>0.0009</td>\n",
       "    </tr>\n",
       "    <tr>\n",
       "      <th>1997-05</th>\n",
       "      <td>0.0156</td>\n",
       "      <td>-0.0015</td>\n",
       "      <td>0.0233</td>\n",
       "      <td>0.0315</td>\n",
       "      <td>0.0189</td>\n",
       "      <td>0.0346</td>\n",
       "      <td>0.0118</td>\n",
       "      <td>0.0108</td>\n",
       "      <td>0.0394</td>\n",
       "      <td>0.0197</td>\n",
       "      <td>0.0173</td>\n",
       "      <td>-0.0737</td>\n",
       "      <td>0.0275</td>\n",
       "    </tr>\n",
       "  </tbody>\n",
       "</table>\n",
       "</div>"
      ],
      "text/plain": [
       "         Convertible Arbitrage  CTA Global  Distressed Securities  \\\n",
       "date                                                                \n",
       "1997-01                 0.0119      0.0393                 0.0178   \n",
       "1997-02                 0.0123      0.0298                 0.0122   \n",
       "1997-03                 0.0078     -0.0021                -0.0012   \n",
       "1997-04                 0.0086     -0.0170                 0.0030   \n",
       "1997-05                 0.0156     -0.0015                 0.0233   \n",
       "\n",
       "         Emerging Markets  Equity Market Neutral  Event Driven  \\\n",
       "date                                                             \n",
       "1997-01            0.0791                 0.0189        0.0213   \n",
       "1997-02            0.0525                 0.0101        0.0084   \n",
       "1997-03           -0.0120                 0.0016       -0.0023   \n",
       "1997-04            0.0119                 0.0119       -0.0005   \n",
       "1997-05            0.0315                 0.0189        0.0346   \n",
       "\n",
       "         Fixed Income Arbitrage  Global Macro  Long/Short Equity  \\\n",
       "date                                                               \n",
       "1997-01                  0.0191        0.0573             0.0281   \n",
       "1997-02                  0.0122        0.0175            -0.0006   \n",
       "1997-03                  0.0109       -0.0119            -0.0084   \n",
       "1997-04                  0.0130        0.0172             0.0084   \n",
       "1997-05                  0.0118        0.0108             0.0394   \n",
       "\n",
       "         Merger Arbitrage  Relative Value  Short Selling  Funds Of Funds  \n",
       "date                                                                      \n",
       "1997-01            0.0150          0.0180        -0.0166          0.0317  \n",
       "1997-02            0.0034          0.0118         0.0426          0.0106  \n",
       "1997-03            0.0060          0.0010         0.0778         -0.0077  \n",
       "1997-04           -0.0001          0.0122        -0.0129          0.0009  \n",
       "1997-05            0.0197          0.0173        -0.0737          0.0275  "
      ]
     },
     "execution_count": 70,
     "metadata": {},
     "output_type": "execute_result"
    }
   ],
   "source": [
    "hfi.head()"
   ]
  },
  {
   "cell_type": "code",
   "execution_count": 71,
   "id": "03bbcd16",
   "metadata": {},
   "outputs": [
    {
     "data": {
      "application/vnd.microsoft.datawrangler.viewer.v0+json": {
       "columns": [
        {
         "name": "index",
         "rawType": "object",
         "type": "string"
        },
        {
         "name": "0",
         "rawType": "float64",
         "type": "float"
        },
        {
         "name": "1",
         "rawType": "float64",
         "type": "float"
        },
        {
         "name": "2",
         "rawType": "bool",
         "type": "boolean"
        }
       ],
       "ref": "539ddbf2-3aeb-4a30-b478-92877993cef8",
       "rows": [
        [
         "Convertible Arbitrage",
         "0.005508365019011407",
         "0.006500000000000001",
         "False"
        ],
        [
         "CTA Global",
         "0.004073764258555133",
         "0.0014000000000000002",
         "True"
        ],
        [
         "Distressed Securities",
         "0.006946007604562737",
         "0.0089",
         "False"
        ],
        [
         "Emerging Markets",
         "0.006253231939163498",
         "0.0096",
         "False"
        ],
        [
         "Equity Market Neutral",
         "0.004498098859315589",
         "0.0051",
         "False"
        ],
        [
         "Event Driven",
         "0.006344486692015209",
         "0.0084",
         "False"
        ],
        [
         "Fixed Income Arbitrage",
         "0.004365019011406845",
         "0.0055000000000000005",
         "False"
        ],
        [
         "Global Macro",
         "0.0054030418250950564",
         "0.0038",
         "True"
        ],
        [
         "Long/Short Equity",
         "0.006330798479087452",
         "0.0079",
         "False"
        ],
        [
         "Merger Arbitrage",
         "0.0053558935361216736",
         "0.006",
         "False"
        ],
        [
         "Relative Value",
         "0.005792015209125476",
         "0.0067",
         "False"
        ],
        [
         "Short Selling",
         "-0.001700760456273763",
         "-0.0053",
         "True"
        ],
        [
         "Funds Of Funds",
         "0.004262357414448669",
         "0.0052",
         "False"
        ]
       ],
       "shape": {
        "columns": 3,
        "rows": 13
       }
      },
      "text/html": [
       "<div>\n",
       "<style scoped>\n",
       "    .dataframe tbody tr th:only-of-type {\n",
       "        vertical-align: middle;\n",
       "    }\n",
       "\n",
       "    .dataframe tbody tr th {\n",
       "        vertical-align: top;\n",
       "    }\n",
       "\n",
       "    .dataframe thead th {\n",
       "        text-align: right;\n",
       "    }\n",
       "</style>\n",
       "<table border=\"1\" class=\"dataframe\">\n",
       "  <thead>\n",
       "    <tr style=\"text-align: right;\">\n",
       "      <th></th>\n",
       "      <th>0</th>\n",
       "      <th>1</th>\n",
       "      <th>2</th>\n",
       "    </tr>\n",
       "  </thead>\n",
       "  <tbody>\n",
       "    <tr>\n",
       "      <th>Convertible Arbitrage</th>\n",
       "      <td>0.005508</td>\n",
       "      <td>0.0065</td>\n",
       "      <td>False</td>\n",
       "    </tr>\n",
       "    <tr>\n",
       "      <th>CTA Global</th>\n",
       "      <td>0.004074</td>\n",
       "      <td>0.0014</td>\n",
       "      <td>True</td>\n",
       "    </tr>\n",
       "    <tr>\n",
       "      <th>Distressed Securities</th>\n",
       "      <td>0.006946</td>\n",
       "      <td>0.0089</td>\n",
       "      <td>False</td>\n",
       "    </tr>\n",
       "    <tr>\n",
       "      <th>Emerging Markets</th>\n",
       "      <td>0.006253</td>\n",
       "      <td>0.0096</td>\n",
       "      <td>False</td>\n",
       "    </tr>\n",
       "    <tr>\n",
       "      <th>Equity Market Neutral</th>\n",
       "      <td>0.004498</td>\n",
       "      <td>0.0051</td>\n",
       "      <td>False</td>\n",
       "    </tr>\n",
       "    <tr>\n",
       "      <th>Event Driven</th>\n",
       "      <td>0.006344</td>\n",
       "      <td>0.0084</td>\n",
       "      <td>False</td>\n",
       "    </tr>\n",
       "    <tr>\n",
       "      <th>Fixed Income Arbitrage</th>\n",
       "      <td>0.004365</td>\n",
       "      <td>0.0055</td>\n",
       "      <td>False</td>\n",
       "    </tr>\n",
       "    <tr>\n",
       "      <th>Global Macro</th>\n",
       "      <td>0.005403</td>\n",
       "      <td>0.0038</td>\n",
       "      <td>True</td>\n",
       "    </tr>\n",
       "    <tr>\n",
       "      <th>Long/Short Equity</th>\n",
       "      <td>0.006331</td>\n",
       "      <td>0.0079</td>\n",
       "      <td>False</td>\n",
       "    </tr>\n",
       "    <tr>\n",
       "      <th>Merger Arbitrage</th>\n",
       "      <td>0.005356</td>\n",
       "      <td>0.0060</td>\n",
       "      <td>False</td>\n",
       "    </tr>\n",
       "    <tr>\n",
       "      <th>Relative Value</th>\n",
       "      <td>0.005792</td>\n",
       "      <td>0.0067</td>\n",
       "      <td>False</td>\n",
       "    </tr>\n",
       "    <tr>\n",
       "      <th>Short Selling</th>\n",
       "      <td>-0.001701</td>\n",
       "      <td>-0.0053</td>\n",
       "      <td>True</td>\n",
       "    </tr>\n",
       "    <tr>\n",
       "      <th>Funds Of Funds</th>\n",
       "      <td>0.004262</td>\n",
       "      <td>0.0052</td>\n",
       "      <td>False</td>\n",
       "    </tr>\n",
       "  </tbody>\n",
       "</table>\n",
       "</div>"
      ],
      "text/plain": [
       "                               0       1      2\n",
       "Convertible Arbitrage   0.005508  0.0065  False\n",
       "CTA Global              0.004074  0.0014   True\n",
       "Distressed Securities   0.006946  0.0089  False\n",
       "Emerging Markets        0.006253  0.0096  False\n",
       "Equity Market Neutral   0.004498  0.0051  False\n",
       "Event Driven            0.006344  0.0084  False\n",
       "Fixed Income Arbitrage  0.004365  0.0055  False\n",
       "Global Macro            0.005403  0.0038   True\n",
       "Long/Short Equity       0.006331  0.0079  False\n",
       "Merger Arbitrage        0.005356  0.0060  False\n",
       "Relative Value          0.005792  0.0067  False\n",
       "Short Selling          -0.001701 -0.0053   True\n",
       "Funds Of Funds          0.004262  0.0052  False"
      ]
     },
     "execution_count": 71,
     "metadata": {},
     "output_type": "execute_result"
    }
   ],
   "source": [
    "pd.concat([hfi.mean(),hfi.median(),hfi.mean()>hfi.median()], axis = \"columns\")"
   ]
  },
  {
   "cell_type": "markdown",
   "id": "37ac3031",
   "metadata": {},
   "source": [
    "Skewness"
   ]
  },
  {
   "cell_type": "code",
   "execution_count": 72,
   "id": "33f07a1a",
   "metadata": {},
   "outputs": [
    {
     "data": {
      "application/vnd.microsoft.datawrangler.viewer.v0+json": {
       "columns": [
        {
         "name": "index",
         "rawType": "object",
         "type": "string"
        },
        {
         "name": "0",
         "rawType": "float64",
         "type": "float"
        }
       ],
       "ref": "45107358-173d-4834-b1c3-0c697f794761",
       "rows": [
        [
         "Fixed Income Arbitrage",
         "-3.9403202911900856"
        ],
        [
         "Convertible Arbitrage",
         "-2.639592225108924"
        ],
        [
         "Equity Market Neutral",
         "-2.1244353839421186"
        ],
        [
         "Relative Value",
         "-1.8154697489380174"
        ],
        [
         "Event Driven",
         "-1.4091535635547916"
        ],
        [
         "Merger Arbitrage",
         "-1.320083333354378"
        ],
        [
         "Distressed Securities",
         "-1.3008420437912196"
        ],
        [
         "Emerging Markets",
         "-1.1670674947992328"
        ],
        [
         "Long/Short Equity",
         "-0.39022677418839496"
        ],
        [
         "Funds Of Funds",
         "-0.3617830836837325"
        ],
        [
         "CTA Global",
         "0.1736986449903903"
        ],
        [
         "Short Selling",
         "0.767974844302668"
        ],
        [
         "Global Macro",
         "0.9829218839470762"
        ]
       ],
       "shape": {
        "columns": 1,
        "rows": 13
       }
      },
      "text/plain": [
       "Fixed Income Arbitrage   -3.940320\n",
       "Convertible Arbitrage    -2.639592\n",
       "Equity Market Neutral    -2.124435\n",
       "Relative Value           -1.815470\n",
       "Event Driven             -1.409154\n",
       "Merger Arbitrage         -1.320083\n",
       "Distressed Securities    -1.300842\n",
       "Emerging Markets         -1.167067\n",
       "Long/Short Equity        -0.390227\n",
       "Funds Of Funds           -0.361783\n",
       "CTA Global                0.173699\n",
       "Short Selling             0.767975\n",
       "Global Macro              0.982922\n",
       "dtype: float64"
      ]
     },
     "execution_count": 72,
     "metadata": {},
     "output_type": "execute_result"
    }
   ],
   "source": [
    "erk.skewness(hfi).sort_values()\n",
    "#if normal, skewness should be 0"
   ]
  },
  {
   "cell_type": "code",
   "execution_count": 73,
   "id": "8b56eb6c",
   "metadata": {},
   "outputs": [],
   "source": [
    "#to compare, same calculation using skewness function from python"
   ]
  },
  {
   "cell_type": "code",
   "execution_count": 74,
   "id": "21167af8",
   "metadata": {},
   "outputs": [],
   "source": [
    "import scipy.stats"
   ]
  },
  {
   "cell_type": "code",
   "execution_count": null,
   "id": "64c5d8e8",
   "metadata": {},
   "outputs": [
    {
     "data": {
      "text/plain": [
       "array([-2.63959223,  0.17369864, -1.30084204, -1.16706749, -2.12443538,\n",
       "       -1.40915356, -3.94032029,  0.98292188, -0.39022677, -1.32008333,\n",
       "       -1.81546975,  0.76797484, -0.36178308])"
      ]
     },
     "execution_count": 75,
     "metadata": {},
     "output_type": "execute_result"
    }
   ],
   "source": [
    "scipy.stats.skew(hfi) #same checks"
   ]
  },
  {
   "cell_type": "markdown",
   "id": "ed5fb0a1",
   "metadata": {},
   "source": [
    "More tests of normality"
   ]
  },
  {
   "cell_type": "code",
   "execution_count": 77,
   "id": "a0eef1c1",
   "metadata": {},
   "outputs": [],
   "source": [
    "normal_rets = np.random.normal(0,.15,size=(263,1))"
   ]
  },
  {
   "cell_type": "code",
   "execution_count": 78,
   "id": "fcf6b556",
   "metadata": {},
   "outputs": [
    {
     "data": {
      "text/plain": [
       "np.float64(-0.05202794233426314)"
      ]
     },
     "execution_count": 78,
     "metadata": {},
     "output_type": "execute_result"
    }
   ],
   "source": [
    "erk.skewness(normal_rets)"
   ]
  },
  {
   "cell_type": "markdown",
   "id": "7a6e2354",
   "metadata": {},
   "source": [
    "Kurtosis"
   ]
  },
  {
   "cell_type": "code",
   "execution_count": null,
   "id": "6f5c4966",
   "metadata": {},
   "outputs": [
    {
     "data": {
      "text/plain": [
       "np.float64(2.885312605633332)"
      ]
     },
     "execution_count": 79,
     "metadata": {},
     "output_type": "execute_result"
    }
   ],
   "source": [
    "erk.kurtosis(normal_rets) #close to 3 is normality"
   ]
  },
  {
   "cell_type": "code",
   "execution_count": 80,
   "id": "7cbf2c73",
   "metadata": {},
   "outputs": [
    {
     "data": {
      "application/vnd.microsoft.datawrangler.viewer.v0+json": {
       "columns": [
        {
         "name": "index",
         "rawType": "object",
         "type": "string"
        },
        {
         "name": "0",
         "rawType": "float64",
         "type": "float"
        }
       ],
       "ref": "50e22dd1-8857-4826-a809-bb9452dad292",
       "rows": [
        [
         "Convertible Arbitrage",
         "23.28083445586123"
        ],
        [
         "CTA Global",
         "2.9529603687465222"
        ],
        [
         "Distressed Securities",
         "7.88998335771665"
        ],
        [
         "Emerging Markets",
         "9.250788406118136"
        ],
        [
         "Equity Market Neutral",
         "17.218555259128376"
        ],
        [
         "Event Driven",
         "8.03582816631681"
        ],
        [
         "Fixed Income Arbitrage",
         "29.84219927835971"
        ],
        [
         "Global Macro",
         "5.741679447000008"
        ],
        [
         "Long/Short Equity",
         "4.523892582215416"
        ],
        [
         "Merger Arbitrage",
         "8.738949791812573"
        ],
        [
         "Relative Value",
         "12.121207865164642"
        ],
        [
         "Short Selling",
         "6.117771750969725"
        ],
        [
         "Funds Of Funds",
         "7.070152775555829"
        ]
       ],
       "shape": {
        "columns": 1,
        "rows": 13
       }
      },
      "text/plain": [
       "Convertible Arbitrage     23.280834\n",
       "CTA Global                 2.952960\n",
       "Distressed Securities      7.889983\n",
       "Emerging Markets           9.250788\n",
       "Equity Market Neutral     17.218555\n",
       "Event Driven               8.035828\n",
       "Fixed Income Arbitrage    29.842199\n",
       "Global Macro               5.741679\n",
       "Long/Short Equity          4.523893\n",
       "Merger Arbitrage           8.738950\n",
       "Relative Value            12.121208\n",
       "Short Selling              6.117772\n",
       "Funds Of Funds             7.070153\n",
       "dtype: float64"
      ]
     },
     "execution_count": 80,
     "metadata": {},
     "output_type": "execute_result"
    }
   ],
   "source": [
    "erk.kurtosis(hfi)"
   ]
  },
  {
   "cell_type": "code",
   "execution_count": null,
   "id": "4d32188e",
   "metadata": {},
   "outputs": [
    {
     "data": {
      "text/plain": [
       "array([-0.11468739])"
      ]
     },
     "execution_count": 81,
     "metadata": {},
     "output_type": "execute_result"
    }
   ],
   "source": [
    "scipy.stats.kurtosis(normal_rets) #even though it says kurtosis, this is the excess kurtosis (substracting 3)"
   ]
  },
  {
   "cell_type": "markdown",
   "id": "bb5603a5",
   "metadata": {},
   "source": [
    "Test of statistical significance to determine normality"
   ]
  },
  {
   "cell_type": "code",
   "execution_count": null,
   "id": "df4872f0",
   "metadata": {},
   "outputs": [
    {
     "data": {
      "text/plain": [
       "SignificanceResult(statistic=np.float64(0.2627898801033842), pvalue=np.float64(0.8768713943620559))"
      ]
     },
     "execution_count": 83,
     "metadata": {},
     "output_type": "execute_result"
    }
   ],
   "source": [
    "scipy.stats.jarque_bera(normal_rets)\n",
    "#the second one is the pvalue for the normal distribution. "
   ]
  },
  {
   "cell_type": "code",
   "execution_count": null,
   "id": "e5aed66f",
   "metadata": {},
   "outputs": [
    {
     "data": {
      "text/plain": [
       "SignificanceResult(statistic=np.float64(25656.585999171337), pvalue=np.float64(0.0))"
      ]
     },
     "execution_count": 84,
     "metadata": {},
     "output_type": "execute_result"
    }
   ],
   "source": [
    "scipy.stats.jarque_bera(hfi) #not working, because it takes all the samples as one unique sample."
   ]
  },
  {
   "cell_type": "code",
   "execution_count": 86,
   "id": "356e3c7d",
   "metadata": {},
   "outputs": [
    {
     "data": {
      "text/plain": [
       "np.False_"
      ]
     },
     "execution_count": 86,
     "metadata": {},
     "output_type": "execute_result"
    }
   ],
   "source": [
    "erk.is_normal(normal_rets)\n",
    "erk.is_normal(hfi)"
   ]
  },
  {
   "cell_type": "code",
   "execution_count": 90,
   "id": "140e925e",
   "metadata": {},
   "outputs": [
    {
     "data": {
      "application/vnd.microsoft.datawrangler.viewer.v0+json": {
       "columns": [
        {
         "name": "index",
         "rawType": "object",
         "type": "string"
        },
        {
         "name": "0",
         "rawType": "bool",
         "type": "boolean"
        }
       ],
       "ref": "a4d0aed1-8e5c-42cd-959c-2c31170e26fb",
       "rows": [
        [
         "Convertible Arbitrage",
         "False"
        ],
        [
         "CTA Global",
         "True"
        ],
        [
         "Distressed Securities",
         "False"
        ],
        [
         "Emerging Markets",
         "False"
        ],
        [
         "Equity Market Neutral",
         "False"
        ],
        [
         "Event Driven",
         "False"
        ],
        [
         "Fixed Income Arbitrage",
         "False"
        ],
        [
         "Global Macro",
         "False"
        ],
        [
         "Long/Short Equity",
         "False"
        ],
        [
         "Merger Arbitrage",
         "False"
        ],
        [
         "Relative Value",
         "False"
        ],
        [
         "Short Selling",
         "False"
        ],
        [
         "Funds Of Funds",
         "False"
        ]
       ],
       "shape": {
        "columns": 1,
        "rows": 13
       }
      },
      "text/plain": [
       "Convertible Arbitrage     False\n",
       "CTA Global                 True\n",
       "Distressed Securities     False\n",
       "Emerging Markets          False\n",
       "Equity Market Neutral     False\n",
       "Event Driven              False\n",
       "Fixed Income Arbitrage    False\n",
       "Global Macro              False\n",
       "Long/Short Equity         False\n",
       "Merger Arbitrage          False\n",
       "Relative Value            False\n",
       "Short Selling             False\n",
       "Funds Of Funds            False\n",
       "dtype: bool"
      ]
     },
     "execution_count": 90,
     "metadata": {},
     "output_type": "execute_result"
    }
   ],
   "source": [
    "hfi.aggregate(erk.is_normal)"
   ]
  },
  {
   "cell_type": "code",
   "execution_count": 92,
   "id": "3bb9c4f6",
   "metadata": {},
   "outputs": [
    {
     "data": {
      "application/vnd.microsoft.datawrangler.viewer.v0+json": {
       "columns": [
        {
         "name": "index",
         "rawType": "object",
         "type": "string"
        },
        {
         "name": "0",
         "rawType": "float64",
         "type": "float"
        }
       ],
       "ref": "77b128ad-1bf2-4bc8-9cd5-8ad91b9efa2a",
       "rows": [
        [
         "SmallCap",
         "4.410738610114979"
        ],
        [
         "LargeCap",
         "0.23344521725825895"
        ]
       ],
       "shape": {
        "columns": 1,
        "rows": 2
       }
      },
      "text/plain": [
       "SmallCap    4.410739\n",
       "LargeCap    0.233445\n",
       "dtype: float64"
      ]
     },
     "execution_count": 92,
     "metadata": {},
     "output_type": "execute_result"
    }
   ],
   "source": [
    "ffme = erk.get_ffme_returns()\n",
    "erk.skewness(ffme)"
   ]
  },
  {
   "cell_type": "code",
   "execution_count": 93,
   "id": "a57a139b",
   "metadata": {},
   "outputs": [
    {
     "data": {
      "application/vnd.microsoft.datawrangler.viewer.v0+json": {
       "columns": [
        {
         "name": "index",
         "rawType": "object",
         "type": "string"
        },
        {
         "name": "0",
         "rawType": "float64",
         "type": "float"
        }
       ],
       "ref": "6fbb171d-1dae-410d-a9cf-e048872260b0",
       "rows": [
        [
         "SmallCap",
         "46.84500784472647"
        ],
        [
         "LargeCap",
         "10.694653941150037"
        ]
       ],
       "shape": {
        "columns": 1,
        "rows": 2
       }
      },
      "text/plain": [
       "SmallCap    46.845008\n",
       "LargeCap    10.694654\n",
       "dtype: float64"
      ]
     },
     "execution_count": 93,
     "metadata": {},
     "output_type": "execute_result"
    }
   ],
   "source": [
    "erk.kurtosis(ffme)"
   ]
  },
  {
   "cell_type": "code",
   "execution_count": 94,
   "id": "5ace5c03",
   "metadata": {},
   "outputs": [
    {
     "data": {
      "text/plain": [
       "np.False_"
      ]
     },
     "execution_count": 94,
     "metadata": {},
     "output_type": "execute_result"
    }
   ],
   "source": [
    "erk.is_normal(ffme)"
   ]
  },
  {
   "cell_type": "markdown",
   "id": "9f14fe8d",
   "metadata": {},
   "source": [
    "#### Lab6: Downside measures"
   ]
  },
  {
   "cell_type": "markdown",
   "id": "65f45fae",
   "metadata": {},
   "source": [
    "##### Semi Deviation"
   ]
  },
  {
   "cell_type": "code",
   "execution_count": null,
   "id": "2d4f2791",
   "metadata": {},
   "outputs": [
    {
     "data": {
      "application/vnd.microsoft.datawrangler.viewer.v0+json": {
       "columns": [
        {
         "name": "index",
         "rawType": "object",
         "type": "string"
        },
        {
         "name": "0",
         "rawType": "float64",
         "type": "float"
        }
       ],
       "ref": "d80aecaa-e8b8-45f7-bd86-80e326cb6da5",
       "rows": [
        [
         "Convertible Arbitrage",
         "0.016535931793903145"
        ],
        [
         "CTA Global",
         "0.023290146170516952"
        ],
        [
         "Distressed Securities",
         "0.01700922063830015"
        ],
        [
         "Emerging Markets",
         "0.032475594507321945"
        ],
        [
         "Equity Market Neutral",
         "0.008114801068767129"
        ],
        [
         "Event Driven",
         "0.01671167592400555"
        ],
        [
         "Fixed Income Arbitrage",
         "0.011517003164094724"
        ],
        [
         "Global Macro",
         "0.014694035101134874"
        ],
        [
         "Long/Short Equity",
         "0.01989692646195369"
        ],
        [
         "Merger Arbitrage",
         "0.009600469008865473"
        ],
        [
         "Relative Value",
         "0.011461977684537399"
        ],
        [
         "Short Selling",
         "0.04765495357444136"
        ],
        [
         "Funds Of Funds",
         "0.015536163790238627"
        ]
       ],
       "shape": {
        "columns": 1,
        "rows": 13
       }
      },
      "text/plain": [
       "Convertible Arbitrage     0.016536\n",
       "CTA Global                0.023290\n",
       "Distressed Securities     0.017009\n",
       "Emerging Markets          0.032476\n",
       "Equity Market Neutral     0.008115\n",
       "Event Driven              0.016712\n",
       "Fixed Income Arbitrage    0.011517\n",
       "Global Macro              0.014694\n",
       "Long/Short Equity         0.019897\n",
       "Merger Arbitrage          0.009600\n",
       "Relative Value            0.011462\n",
       "Short Selling             0.047655\n",
       "Funds Of Funds            0.015536\n",
       "dtype: float64"
      ]
     },
     "execution_count": 96,
     "metadata": {},
     "output_type": "execute_result"
    }
   ],
   "source": [
    "hfi.std(ddof=0) #full distro"
   ]
  },
  {
   "cell_type": "code",
   "execution_count": 101,
   "id": "75802da5",
   "metadata": {},
   "outputs": [
    {
     "data": {
      "application/vnd.microsoft.datawrangler.viewer.v0+json": {
       "columns": [
        {
         "name": "index",
         "rawType": "object",
         "type": "string"
        },
        {
         "name": "0",
         "rawType": "float64",
         "type": "float"
        }
       ],
       "ref": "34540369-6a08-46dd-bc36-29ff221d2876",
       "rows": [
        [
         "Convertible Arbitrage",
         "0.019539843513132593"
        ],
        [
         "CTA Global",
         "0.012442800321093829"
        ],
        [
         "Distressed Securities",
         "0.015185283870320712"
        ],
        [
         "Emerging Markets",
         "0.028038582089600275"
        ],
        [
         "Equity Market Neutral",
         "0.009566031256119519"
        ],
        [
         "Event Driven",
         "0.015429138379306585"
        ],
        [
         "Fixed Income Arbitrage",
         "0.01776279628744445"
        ],
        [
         "Global Macro",
         "0.006579420166584437"
        ],
        [
         "Long/Short Equity",
         "0.014050967499393422"
        ],
        [
         "Merger Arbitrage",
         "0.008874887364411681"
        ],
        [
         "Relative Value",
         "0.01224417486970012"
        ],
        [
         "Short Selling",
         "0.027283243102571825"
        ],
        [
         "Funds Of Funds",
         "0.012122154739394205"
        ]
       ],
       "shape": {
        "columns": 1,
        "rows": 13
       }
      },
      "text/plain": [
       "Convertible Arbitrage     0.019540\n",
       "CTA Global                0.012443\n",
       "Distressed Securities     0.015185\n",
       "Emerging Markets          0.028039\n",
       "Equity Market Neutral     0.009566\n",
       "Event Driven              0.015429\n",
       "Fixed Income Arbitrage    0.017763\n",
       "Global Macro              0.006579\n",
       "Long/Short Equity         0.014051\n",
       "Merger Arbitrage          0.008875\n",
       "Relative Value            0.012244\n",
       "Short Selling             0.027283\n",
       "Funds Of Funds            0.012122\n",
       "dtype: float64"
      ]
     },
     "execution_count": 101,
     "metadata": {},
     "output_type": "execute_result"
    }
   ],
   "source": [
    "hfi[hfi<0].std(ddof=0)"
   ]
  },
  {
   "cell_type": "code",
   "execution_count": 100,
   "id": "e673bc7e",
   "metadata": {},
   "outputs": [
    {
     "data": {
      "application/vnd.microsoft.datawrangler.viewer.v0+json": {
       "columns": [
        {
         "name": "index",
         "rawType": "object",
         "type": "string"
        },
        {
         "name": "0",
         "rawType": "float64",
         "type": "float"
        }
       ],
       "ref": "54971871-20f8-42c5-8a44-087ba04d82c9",
       "rows": [
        [
         "Convertible Arbitrage",
         "0.019539843513132593"
        ],
        [
         "CTA Global",
         "0.012442800321093829"
        ],
        [
         "Distressed Securities",
         "0.015185283870320712"
        ],
        [
         "Emerging Markets",
         "0.028038582089600275"
        ],
        [
         "Equity Market Neutral",
         "0.009566031256119519"
        ],
        [
         "Event Driven",
         "0.015429138379306585"
        ],
        [
         "Fixed Income Arbitrage",
         "0.01776279628744445"
        ],
        [
         "Global Macro",
         "0.006579420166584437"
        ],
        [
         "Long/Short Equity",
         "0.014050967499393422"
        ],
        [
         "Merger Arbitrage",
         "0.008874887364411681"
        ],
        [
         "Relative Value",
         "0.01224417486970012"
        ],
        [
         "Short Selling",
         "0.027283243102571825"
        ],
        [
         "Funds Of Funds",
         "0.012122154739394205"
        ]
       ],
       "shape": {
        "columns": 1,
        "rows": 13
       }
      },
      "text/plain": [
       "Convertible Arbitrage     0.019540\n",
       "CTA Global                0.012443\n",
       "Distressed Securities     0.015185\n",
       "Emerging Markets          0.028039\n",
       "Equity Market Neutral     0.009566\n",
       "Event Driven              0.015429\n",
       "Fixed Income Arbitrage    0.017763\n",
       "Global Macro              0.006579\n",
       "Long/Short Equity         0.014051\n",
       "Merger Arbitrage          0.008875\n",
       "Relative Value            0.012244\n",
       "Short Selling             0.027283\n",
       "Funds Of Funds            0.012122\n",
       "dtype: float64"
      ]
     },
     "execution_count": 100,
     "metadata": {},
     "output_type": "execute_result"
    }
   ],
   "source": [
    "erk.semideviation(hfi)"
   ]
  },
  {
   "cell_type": "markdown",
   "id": "a948a16c",
   "metadata": {},
   "source": [
    "##### VaR and CVaR"
   ]
  },
  {
   "cell_type": "markdown",
   "id": "d8970bce",
   "metadata": {},
   "source": [
    "- Historic VaR"
   ]
  },
  {
   "cell_type": "code",
   "execution_count": 103,
   "id": "dc06cc20",
   "metadata": {},
   "outputs": [
    {
     "data": {
      "text/plain": [
       "array([-0.01576, -0.03169, -0.01966, -0.04247, -0.00814, -0.02535,\n",
       "       -0.00787, -0.01499, -0.02598, -0.01047, -0.01174, -0.06783,\n",
       "       -0.02047])"
      ]
     },
     "execution_count": 103,
     "metadata": {},
     "output_type": "execute_result"
    }
   ],
   "source": [
    "np.percentile(hfi,5,axis=0)"
   ]
  },
  {
   "cell_type": "code",
   "execution_count": null,
   "id": "736cd254",
   "metadata": {},
   "outputs": [],
   "source": [
    "def var_historic(r, level = 5):\n",
    "  \"\"\"\n",
    "  VaR historic\n",
    "  \"\"\"\n",
    "\n",
    "  if isinstance(r, pd.DataFrame):\n",
    "    return r.aggregate(var_historic, level = level)\n",
    "  elif isinstance(r, pd.Series):\n",
    "    return -np.percentile(r,level) #it is semi deviation, so all are understood to be negative. We present them as positive\n",
    "  else:\n",
    "    raise TypeError(\"Expected r to be Series or DataFrame\")"
   ]
  },
  {
   "cell_type": "code",
   "execution_count": 105,
   "id": "7ee16eaa",
   "metadata": {},
   "outputs": [
    {
     "data": {
      "application/vnd.microsoft.datawrangler.viewer.v0+json": {
       "columns": [
        {
         "name": "index",
         "rawType": "object",
         "type": "string"
        },
        {
         "name": "0",
         "rawType": "float64",
         "type": "float"
        }
       ],
       "ref": "06caf044-4713-4c34-8886-7432d6b11cf5",
       "rows": [
        [
         "Convertible Arbitrage",
         "-0.01576"
        ],
        [
         "CTA Global",
         "-0.031689999999999996"
        ],
        [
         "Distressed Securities",
         "-0.019659999999999997"
        ],
        [
         "Emerging Markets",
         "-0.04247"
        ],
        [
         "Equity Market Neutral",
         "-0.008139999999999998"
        ],
        [
         "Event Driven",
         "-0.025349999999999998"
        ],
        [
         "Fixed Income Arbitrage",
         "-0.007869999999999999"
        ],
        [
         "Global Macro",
         "-0.01499"
        ],
        [
         "Long/Short Equity",
         "-0.025979999999999996"
        ],
        [
         "Merger Arbitrage",
         "-0.01047"
        ],
        [
         "Relative Value",
         "-0.011739999999999999"
        ],
        [
         "Short Selling",
         "-0.06783"
        ],
        [
         "Funds Of Funds",
         "-0.02047"
        ]
       ],
       "shape": {
        "columns": 1,
        "rows": 13
       }
      },
      "text/plain": [
       "Convertible Arbitrage    -0.01576\n",
       "CTA Global               -0.03169\n",
       "Distressed Securities    -0.01966\n",
       "Emerging Markets         -0.04247\n",
       "Equity Market Neutral    -0.00814\n",
       "Event Driven             -0.02535\n",
       "Fixed Income Arbitrage   -0.00787\n",
       "Global Macro             -0.01499\n",
       "Long/Short Equity        -0.02598\n",
       "Merger Arbitrage         -0.01047\n",
       "Relative Value           -0.01174\n",
       "Short Selling            -0.06783\n",
       "Funds Of Funds           -0.02047\n",
       "dtype: float64"
      ]
     },
     "execution_count": 105,
     "metadata": {},
     "output_type": "execute_result"
    }
   ],
   "source": [
    "var_historic(hfi)"
   ]
  },
  {
   "cell_type": "code",
   "execution_count": 110,
   "id": "2414d613",
   "metadata": {},
   "outputs": [
    {
     "ename": "NameError",
     "evalue": "name 'var_historic' is not defined",
     "output_type": "error",
     "traceback": [
      "\u001b[31m---------------------------------------------------------------------------\u001b[39m",
      "\u001b[31mNameError\u001b[39m                                 Traceback (most recent call last)",
      "\u001b[36mCell\u001b[39m\u001b[36m \u001b[39m\u001b[32mIn[110]\u001b[39m\u001b[32m, line 1\u001b[39m\n\u001b[32m----> \u001b[39m\u001b[32m1\u001b[39m \u001b[43merk\u001b[49m\u001b[43m.\u001b[49m\u001b[43mvar_historic\u001b[49m\u001b[43m(\u001b[49m\u001b[43mhfi\u001b[49m\u001b[43m)\u001b[49m\n",
      "\u001b[36mFile \u001b[39m\u001b[32m<string>:6\u001b[39m, in \u001b[36mvar_historic\u001b[39m\u001b[34m(r, level)\u001b[39m\n",
      "\u001b[31mNameError\u001b[39m: name 'var_historic' is not defined"
     ]
    }
   ],
   "source": [
    "erk.var_historic(hfi)"
   ]
  },
  {
   "cell_type": "markdown",
   "id": "9f5869bc",
   "metadata": {},
   "source": [
    "- Parametric VaR - Gaussian"
   ]
  },
  {
   "cell_type": "code",
   "execution_count": null,
   "id": "6a07cb66",
   "metadata": {},
   "outputs": [],
   "source": []
  },
  {
   "cell_type": "markdown",
   "id": "96e1f191",
   "metadata": {},
   "source": [
    "- Modifier VaR OR Cornish-Fisher VaR"
   ]
  },
  {
   "cell_type": "code",
   "execution_count": null,
   "id": "8a325c42",
   "metadata": {},
   "outputs": [],
   "source": []
  }
 ],
 "metadata": {
  "kernelspec": {
   "display_name": "portfolio",
   "language": "python",
   "name": "python3"
  },
  "language_info": {
   "codemirror_mode": {
    "name": "ipython",
    "version": 3
   },
   "file_extension": ".py",
   "mimetype": "text/x-python",
   "name": "python",
   "nbconvert_exporter": "python",
   "pygments_lexer": "ipython3",
   "version": "3.12.11"
  }
 },
 "nbformat": 4,
 "nbformat_minor": 5
}
