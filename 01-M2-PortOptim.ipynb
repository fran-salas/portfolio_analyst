{
 "cells": [
  {
   "cell_type": "markdown",
   "id": "5d5fadf9",
   "metadata": {},
   "source": [
    "### 1-Module 2: Portfolio Optimization"
   ]
  }
 ],
 "metadata": {
  "language_info": {
   "name": "python"
  }
 },
 "nbformat": 4,
 "nbformat_minor": 5
}
